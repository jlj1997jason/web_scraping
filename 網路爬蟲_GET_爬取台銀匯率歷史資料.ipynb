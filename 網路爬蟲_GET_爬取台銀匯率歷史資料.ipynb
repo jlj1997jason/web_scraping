{
 "cells": [
  {
   "cell_type": "markdown",
   "metadata": {},
   "source": [
    "## **使用 GET 方法來爬取台灣銀行匯率歷史資料**\n",
    "### [台灣銀行歷史本行營業時間牌告匯率](https://rate.bot.com.tw/xrt/quote/l6m/USD)"
   ]
  },
  {
   "cell_type": "code",
   "execution_count": null,
   "metadata": {},
   "outputs": [],
   "source": [
    "# 可以去掉 python 輸出時，因為軟體版本所引起的警告的警告。\n",
    "import warnings\n",
    "warnings.filterwarnings('ignore')"
   ]
  },
  {
   "cell_type": "code",
   "execution_count": null,
   "metadata": {},
   "outputs": [],
   "source": [
    "import requests\n",
    "\n",
    "url_address = 'https://rate.bot.com.tw/xrt/quote/l6m/USD'\n",
    "\n",
    "headers = { 'User-Agent':'Mozilla/5.0 (Windows NT 10.0; Win64; x64)\\\n",
    "             AppleWebKit/537.36 (KHTML, like Gecko)\\\n",
    "             Chrome/83.0.4103.61 Safari/537.36', \n",
    "          }       # '\\'為續行字符，代表與下一行為同一行的敘述\n",
    "\n",
    "res = requests.get(url_address, headers = headers)\n",
    "\n",
    "print(res.text)"
   ]
  },
  {
   "cell_type": "code",
   "execution_count": null,
   "metadata": {},
   "outputs": [],
   "source": [
    "import pandas as pd\n",
    "\n",
    "table = pd.read_html(res.text)\n",
    "\n",
    "print('找出 %02d 個表格' % len(table))"
   ]
  },
  {
   "cell_type": "code",
   "execution_count": null,
   "metadata": {},
   "outputs": [],
   "source": [
    "df = table[0]  # 看一下第一個表格內容\n",
    "\n",
    "df"
   ]
  },
  {
   "cell_type": "markdown",
   "metadata": {},
   "source": [
    "### [df.columns.droplevel() - 從一個多層次的行索引下降一級](https://www.itdaan.com/tw/26a7827988bea65d89cbea2a352a4cfc)"
   ]
  },
  {
   "cell_type": "code",
   "execution_count": null,
   "metadata": {},
   "outputs": [],
   "source": [
    "df.columns = df.columns.droplevel() # 從一個多層次的行索引下降一級\n",
    "\n",
    "df"
   ]
  },
  {
   "cell_type": "markdown",
   "metadata": {},
   "source": [
    "### 刪除不必要的欄位"
   ]
  },
  {
   "cell_type": "code",
   "execution_count": null,
   "metadata": {},
   "outputs": [],
   "source": [
    "df = df.drop('Unnamed: 6_level_1', axis = 1)\n",
    "df = df.drop('Unnamed: 7_level_1', axis = 1)\n",
    "df = df.drop('Unnamed: 8_level_1', axis = 1)\n",
    "\n",
    "df"
   ]
  },
  {
   "cell_type": "markdown",
   "metadata": {},
   "source": [
    "### 根據目前表格內的資料來重新制定表格欄位的名稱"
   ]
  },
  {
   "cell_type": "code",
   "execution_count": null,
   "metadata": {},
   "outputs": [],
   "source": [
    "df.columns = ['掛牌日期', '幣別', '現金匯率:本行買入', '現金匯率:本行賣出', '即期匯率:本行買入', '即期匯率:本行賣出']\n",
    "\n",
    "df.index += 1   # 索引值改成從 1 開始\n",
    "\n",
    "df"
   ]
  },
  {
   "cell_type": "markdown",
   "metadata": {},
   "source": [
    "### 如何調整 Pandas DataFrame 可以顯示的行（欄位）數與列（記錄）數"
   ]
  },
  {
   "cell_type": "code",
   "execution_count": null,
   "metadata": {},
   "outputs": [],
   "source": [
    "# pd.set_option('display.max_columns', None)   # 顯示全部的欄位與內容\n",
    "\n",
    "pd.set_option('display.max_rows', None)   # 顯示全部的紀錄 (row data) 與內容\n",
    "\n",
    "#pd.set_option('display.min_rows', 30)   # 顯示全部的紀錄的前 15 筆與最後的 15 筆紀錄與內容"
   ]
  },
  {
   "cell_type": "code",
   "execution_count": null,
   "metadata": {},
   "outputs": [],
   "source": [
    "df"
   ]
  },
  {
   "cell_type": "code",
   "execution_count": null,
   "metadata": {},
   "outputs": [],
   "source": []
  }
 ],
 "metadata": {
  "kernelspec": {
   "display_name": "Python 3",
   "language": "python",
   "name": "python3"
  },
  "language_info": {
   "codemirror_mode": {
    "name": "ipython",
    "version": 3
   },
   "file_extension": ".py",
   "mimetype": "text/x-python",
   "name": "python",
   "nbconvert_exporter": "python",
   "pygments_lexer": "ipython3",
   "version": "3.8.5"
  }
 },
 "nbformat": 4,
 "nbformat_minor": 2
}
