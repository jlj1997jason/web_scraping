{
 "cells": [
  {
   "cell_type": "markdown",
   "metadata": {},
   "source": [
    "## **使用POST方法來爬取公開資訊觀測站上的財務報表**\n",
    "### [公開資訊觀測站](https://mops.twse.com.tw/mops/web/index)，[ 公開資訊觀測站→彙總報表→財務報表→採用IFRSs後→綜合損益表](https://mops.twse.com.tw/mops/web/t163sb04)"
   ]
  },
  {
   "cell_type": "code",
   "execution_count": null,
   "metadata": {},
   "outputs": [],
   "source": [
    "# 可以去掉 python 輸出時，因為軟體版本所引起的警告的警告。\n",
    "import warnings\n",
    "warnings.filterwarnings('ignore')"
   ]
  },
  {
   "cell_type": "code",
   "execution_count": null,
   "metadata": {},
   "outputs": [],
   "source": [
    "import requests\n",
    "\n",
    "# 以下 payload 內的 TYPEK, year, season等欄位內容需要做適當設定，說明如下：\n",
    "# TYPEK(市場別) : 'sii'(上市)，'otc'(上櫃)，'rotc'(興櫃)，'pub'(公開發行)\n",
    "# year(年度)：以國曆年度為輸入內容\n",
    "# season(季別)：'01', '02', '03', '04' (第一季至第四季中任選擇一，字串中的'0'不可少)\n",
    "payload = {\n",
    "    'encodeURIComponent':'1',\n",
    "    'step':'1',\n",
    "    'firstin':'1',\n",
    "    'off':'1',\n",
    "    'isQuery':'Y',\n",
    "    'TYPEK':'sii',\n",
    "    'year':'109',\n",
    "    'season':'04'\n",
    "}\n",
    "\n",
    "# 以下為 \"公開資訊觀測站→彙總報表→財務報表→採用IFRSs後→綜合損益表\" 的網頁網址\n",
    "url_address = 'https://mops.twse.com.tw/mops/web/t163sb04' \n",
    "\n",
    "res_post = requests.post(url_address, data = payload)   # 使用 post 方法\n",
    "\n",
    "res_post.encoding = 'utf-8'  # 為了能夠順利讓網頁中的中文字正確的呈現出來\n",
    "\n",
    "print(res_post.text)"
   ]
  },
  {
   "cell_type": "markdown",
   "metadata": {},
   "source": [
    "### **用 BeautifulSoup 來剖析並取出所有表格**"
   ]
  },
  {
   "cell_type": "code",
   "execution_count": null,
   "metadata": {},
   "outputs": [],
   "source": [
    "from bs4 import BeautifulSoup\n",
    "\n",
    "soup = BeautifulSoup(res_post.text, 'html.parser')\n",
    "\n",
    "_tables = soup.select(\"table[class='hasBorder']\")  # 其 html 標籤為 <table class='hasBorder'>...</table>\n",
    "\n",
    "print('總共有 %d 個表格！\\n' % len(_tables)) # 顯示有多少個表格\n",
    "\n",
    "#print(find_all_tables)"
   ]
  },
  {
   "cell_type": "code",
   "execution_count": null,
   "metadata": {},
   "outputs": [],
   "source": [
    "type(_tables)  # ResultSet class is a subclass of a list and not a Tag class"
   ]
  },
  {
   "cell_type": "code",
   "execution_count": null,
   "metadata": {},
   "outputs": [],
   "source": [
    "_tables"
   ]
  },
  {
   "cell_type": "markdown",
   "metadata": {},
   "source": [
    "### **用 Pandas 資料科學套件來讀取爬出的表格**"
   ]
  },
  {
   "cell_type": "code",
   "execution_count": null,
   "metadata": {},
   "outputs": [],
   "source": [
    "import pandas as pd\n",
    "\n",
    "tables = pd.read_html(str(_tables))\n",
    "\n",
    "print('總共有 %d 個表格！\\n' % len(tables)) # 顯示有多少個表格\n",
    "\n",
    "print(tables)"
   ]
  },
  {
   "cell_type": "markdown",
   "metadata": {},
   "source": [
    "### **試著依序讀出所抓取的表格，並看一下每一個表格**"
   ]
  },
  {
   "cell_type": "code",
   "execution_count": null,
   "metadata": {},
   "outputs": [],
   "source": [
    "df = tables[0]\n",
    "df"
   ]
  },
  {
   "cell_type": "code",
   "execution_count": null,
   "metadata": {},
   "outputs": [],
   "source": [
    "tables[1]"
   ]
  },
  {
   "cell_type": "code",
   "execution_count": null,
   "metadata": {},
   "outputs": [],
   "source": [
    "tables[2]"
   ]
  },
  {
   "cell_type": "code",
   "execution_count": null,
   "metadata": {},
   "outputs": [],
   "source": [
    "tables[3]"
   ]
  },
  {
   "cell_type": "code",
   "execution_count": null,
   "metadata": {},
   "outputs": [],
   "source": [
    "tables[4]"
   ]
  },
  {
   "cell_type": "code",
   "execution_count": null,
   "metadata": {},
   "outputs": [],
   "source": [
    "tables[5]"
   ]
  },
  {
   "cell_type": "markdown",
   "metadata": {},
   "source": [
    "### **將第三個表格內容取出來放入 Pandas DataFrame 內，並看一下表格上有哪一些欄位**** "
   ]
  },
  {
   "cell_type": "code",
   "execution_count": null,
   "metadata": {},
   "outputs": [],
   "source": [
    "for name in tables[2].columns:\n",
    "    \n",
    "    print(name)"
   ]
  },
  {
   "cell_type": "markdown",
   "metadata": {},
   "source": [
    "### **將索引值 index 起始值從預設的整數值 0 改從整數 1  開始**"
   ]
  },
  {
   "cell_type": "code",
   "execution_count": null,
   "metadata": {},
   "outputs": [],
   "source": [
    "df = pd.DataFrame(tables[2])\n",
    "\n",
    "df.index += 1\n",
    "\n",
    "df  # 顯示 df 表格"
   ]
  },
  {
   "cell_type": "markdown",
   "metadata": {},
   "source": [
    "### Pandas Getting and setting options [[1]](https://pandas.pydata.org/pandas-docs/stable/reference/api/pandas.set_option.html), [[2]](https://pandas.pydata.org/pandas-docs/stable/user_guide/options.html)"
   ]
  },
  {
   "cell_type": "code",
   "execution_count": null,
   "metadata": {},
   "outputs": [],
   "source": [
    "# Note: 更改 DataFrame 顯示的設定\n",
    "# display.[line_width, max_categories, max_columns, max_colwidth, \n",
    "# max_info_columns, max_info_rows, max_rows, max_seq_items, memory_usage, multi_sparse, \n",
    "# notebook_repr_html, pprint_nest_depth, precision, show_dimensions]\n",
    "\n",
    "pd.set_option('display.min_rows', 60)\n",
    "\n",
    "pd.set_option('display.max_columns', len(tables[2].columns))\n",
    "\n",
    "#pd.set_option('display.width', 1000)\n",
    "\n",
    "df  # 顯示 df 表格"
   ]
  },
  {
   "cell_type": "code",
   "execution_count": null,
   "metadata": {},
   "outputs": [],
   "source": []
  }
 ],
 "metadata": {
  "kernelspec": {
   "display_name": "Python 3",
   "language": "python",
   "name": "python3"
  },
  "language_info": {
   "codemirror_mode": {
    "name": "ipython",
    "version": 3
   },
   "file_extension": ".py",
   "mimetype": "text/x-python",
   "name": "python",
   "nbconvert_exporter": "python",
   "pygments_lexer": "ipython3",
   "version": "3.8.10"
  }
 },
 "nbformat": 4,
 "nbformat_minor": 2
}
