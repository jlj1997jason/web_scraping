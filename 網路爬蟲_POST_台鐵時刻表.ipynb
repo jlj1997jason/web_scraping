{
 "cells": [
  {
   "cell_type": "markdown",
   "metadata": {},
   "source": [
    "## **使用POST方法來爬取台鐵的時刻表**\n",
    "### [列車時刻/車次查詢](https://www.railway.gov.tw/tra-tip-web/tip/tip001/tip112/gobytime)"
   ]
  },
  {
   "cell_type": "code",
   "execution_count": null,
   "metadata": {},
   "outputs": [],
   "source": [
    "# 可以去掉 python 輸出時，因為軟體版本所引起的警告的警告。\n",
    "import warnings\n",
    "warnings.filterwarnings('ignore')"
   ]
  },
  {
   "cell_type": "code",
   "execution_count": null,
   "metadata": {},
   "outputs": [],
   "source": [
    "import requests\n",
    "\n",
    "# 注意：所選的日期 (rideDate) 一定要今天或之後才會有資料\n",
    "#\n",
    "payload = {    \n",
    "    '_csrf':'e7666daa-56a6-41b9-aba1-34141ed8e04b',\n",
    "    'startStation':'0930-七堵',\n",
    "    'endStation':'4220-臺南',\n",
    "    'transfer':'ONE',\n",
    "    'rideDate':'2021/06/18',\n",
    "    'startOrEndTime':'true',\n",
    "    'startTime':'00:00',\n",
    "    'endTime':'23:59',\n",
    "    'trainTypeList':'ALL',\n",
    "    'query':'查詢'\n",
    "}\n",
    "\n",
    "url_address = 'https://www.railway.gov.tw/tra-tip-web/tip/tip001/tip112/querybytime'\n",
    "    \n",
    "res_post = requests.post(url_address, data = payload) \n",
    "\n",
    "res_post.encoding = 'utf-8'  # 為了能夠順利讓網頁中的中文字正確的呈現出來\n",
    "\n",
    "print (res_post.text) # 看一下網頁的內容"
   ]
  },
  {
   "cell_type": "markdown",
   "metadata": {},
   "source": [
    "### **剖析網頁內容，瞭解要抓的表格在哪裡**"
   ]
  },
  {
   "cell_type": "code",
   "execution_count": null,
   "metadata": {},
   "outputs": [],
   "source": [
    "from bs4 import BeautifulSoup\n",
    "\n",
    "soup = BeautifulSoup(res_post.text, 'html.parser')\n",
    "\n",
    "# 表格標籤特徵為 <table class=\"itinerary-controls\">\n",
    "tables = soup.select('table[class=\"itinerary-controls\"]')\n",
    "\n",
    "print('共掃出 %d 個表格！\\n' % len(tables))"
   ]
  },
  {
   "cell_type": "markdown",
   "metadata": {},
   "source": [
    "### **用 Pandas 資料科學套件來讀取爬出的表格**"
   ]
  },
  {
   "cell_type": "code",
   "execution_count": null,
   "metadata": {},
   "outputs": [],
   "source": [
    "import pandas as pd\n",
    "\n",
    "tables = pd.read_html(str(tables))\n",
    "\n",
    "print('共掃出 %d 個表格！\\n' % len(tables))\n",
    "   \n",
    "#print(table_columns)"
   ]
  },
  {
   "cell_type": "markdown",
   "metadata": {},
   "source": [
    "### **看一下每一個表格**"
   ]
  },
  {
   "cell_type": "code",
   "execution_count": null,
   "metadata": {},
   "outputs": [],
   "source": [
    "tables[0]"
   ]
  },
  {
   "cell_type": "code",
   "execution_count": null,
   "metadata": {},
   "outputs": [],
   "source": [
    "tables[1]"
   ]
  },
  {
   "cell_type": "code",
   "execution_count": null,
   "metadata": {},
   "outputs": [],
   "source": [
    "tables[2]"
   ]
  },
  {
   "cell_type": "code",
   "execution_count": null,
   "metadata": {},
   "outputs": [],
   "source": [
    "tables[3]"
   ]
  },
  {
   "cell_type": "code",
   "execution_count": null,
   "metadata": {},
   "outputs": [],
   "source": [
    "tables[4]"
   ]
  },
  {
   "cell_type": "code",
   "execution_count": null,
   "metadata": {},
   "outputs": [],
   "source": [
    "tables[5]"
   ]
  },
  {
   "cell_type": "markdown",
   "metadata": {},
   "source": [
    "### **看一下表格上有哪一些欄位**"
   ]
  },
  {
   "cell_type": "code",
   "execution_count": null,
   "metadata": {},
   "outputs": [],
   "source": [
    "for name in tables[0].columns:\n",
    "    \n",
    "    print(name)"
   ]
  },
  {
   "cell_type": "markdown",
   "metadata": {},
   "source": [
    "### **選擇特定欄位內的資料寫入最後結果的表格內**"
   ]
  },
  {
   "cell_type": "code",
   "execution_count": null,
   "metadata": {},
   "outputs": [],
   "source": [
    "# 修改 pandas 顯示設定\n",
    "pd.set_option('display.max.columns', 20)\n",
    "\n",
    "pd.set_option('display.max.rows', None) # 顯示全部"
   ]
  },
  {
   "cell_type": "code",
   "execution_count": null,
   "metadata": {},
   "outputs": [],
   "source": [
    "#column_fields = ['車種車次 (始發站 → 終點站)', '出發時間', '抵達時間', '行駛時間', '經由', '全票', '孩童票']\n",
    "\n",
    "column_fields = tables[0].columns[:9]\n",
    "\n",
    "df = pd.DataFrame( \n",
    "                   tables[0], \n",
    "                   columns = column_fields\n",
    "                  ) \n",
    "\n",
    "df.index += 1\n",
    "\n",
    "df  # 顯示 df 表格"
   ]
  },
  {
   "cell_type": "markdown",
   "metadata": {},
   "source": [
    "### **抽出所要的表格內容**"
   ]
  },
  {
   "cell_type": "code",
   "execution_count": null,
   "metadata": {},
   "outputs": [],
   "source": [
    "df2 = pd.DataFrame(columns = column_fields) \n",
    "\n",
    "for i in range(1, df.index.stop, 5):\n",
    "    \n",
    "    #append row to the dataframe\n",
    "    df2 = df2.append(df.loc[i,:], ignore_index = True)\n",
    "    \n",
    "df2.index += 1 # 調整最後表格的索引值由 1 開始，而不是依預設值從 0 開始\n",
    "\n",
    "df2  # 顯示 df2 表格"
   ]
  }
 ],
 "metadata": {
  "kernelspec": {
   "display_name": "Python 3",
   "language": "python",
   "name": "python3"
  },
  "language_info": {
   "codemirror_mode": {
    "name": "ipython",
    "version": 3
   },
   "file_extension": ".py",
   "mimetype": "text/x-python",
   "name": "python",
   "nbconvert_exporter": "python",
   "pygments_lexer": "ipython3",
   "version": "3.8.10"
  }
 },
 "nbformat": 4,
 "nbformat_minor": 2
}
