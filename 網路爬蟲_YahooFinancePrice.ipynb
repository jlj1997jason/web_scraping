{
 "cells": [
  {
   "cell_type": "markdown",
   "metadata": {},
   "source": [
    "# Yahoo Finance 網站內國際金融與股市歷史資料下載"
   ]
  },
  {
   "cell_type": "code",
   "execution_count": null,
   "metadata": {},
   "outputs": [],
   "source": [
    "# 可以去掉 python 輸出時，因為軟體版本所引起的警告的警告。\n",
    "import warnings\n",
    "warnings.filterwarnings('ignore')"
   ]
  },
  {
   "cell_type": "code",
   "execution_count": null,
   "metadata": {},
   "outputs": [],
   "source": [
    "import re         # 正規表達式(regular expression)模組\n",
    "import sys        # 系統模組，內含很多函式方法和變數，用來處理Python執行時配置以及資源，從而可以與當前程式之外的系統環境互動\n",
    "import time       # 時間模組\n",
    "import datetime   # 日期模組\n",
    "import requests   # 網路連線模組"
   ]
  },
  {
   "cell_type": "code",
   "execution_count": null,
   "metadata": {},
   "outputs": [],
   "source": [
    "def split_crumb_store(v):\n",
    "\n",
    "    return v.split(':')[2].strip('\"')"
   ]
  },
  {
   "cell_type": "code",
   "execution_count": null,
   "metadata": {},
   "outputs": [],
   "source": [
    "def find_crumb_store(lines):\n",
    "\n",
    "    # Looking for\n",
    "    # ,\"CrumbStore\":{\"crumb\":\"9q.A4D1c.b9\n",
    "\n",
    "    for l in lines:\n",
    "\n",
    "        if re.findall(r'CrumbStore', l):\n",
    "\n",
    "            return l\n",
    "\n",
    "    print(\"Did not find CrumbStore\")"
   ]
  },
  {
   "cell_type": "code",
   "execution_count": null,
   "metadata": {},
   "outputs": [],
   "source": [
    " # 取得並保存 cookie \n",
    "def get_cookie_value(r):\n",
    "    \n",
    "    return {'B': r.cookies['B']}"
   ]
  },
  {
   "cell_type": "code",
   "execution_count": null,
   "metadata": {},
   "outputs": [],
   "source": [
    "def get_data(symbol, start_date, end_date, cookie, crumb):\n",
    "\n",
    "    filename = '%s.csv' % (symbol)\n",
    "\n",
    "    url = \"https://query1.finance.yahoo.com/v7/finance/download/%s?period1=%s&period2=%s&interval=1d&events=history&crumb=%s\" % (symbol, start_date, end_date, crumb)\n",
    "\n",
    "    response = requests.get(url, cookies = cookie)\n",
    "\n",
    "    with open (filename, 'wb') as handle:\n",
    "\n",
    "        for block in response.iter_content(1024):\n",
    "\n",
    "            handle.write(block)"
   ]
  },
  {
   "cell_type": "code",
   "execution_count": null,
   "metadata": {},
   "outputs": [],
   "source": [
    "def get_page_data(symbol):\n",
    "\n",
    "    url = \"https://finance.yahoo.com/quote/%s/?p=%s\" % (symbol, symbol)\n",
    "\n",
    "    r = requests.get(url)\n",
    "\n",
    "    #print(r.text)\n",
    "\n",
    "    try:\n",
    "\n",
    "        cookie = get_cookie_value(r)\n",
    "        \n",
    "        #print(cookie)\n",
    "\n",
    "    except KeyError as e:\n",
    "\n",
    "        print(\">> Error Message : Symbol name [%s] not found!\\n\" % symbol)\n",
    "\n",
    "        sys.exit()\n",
    "\n",
    "    else:\n",
    "        \n",
    "        # Code to replace possible \\u002F value\n",
    "        # ,\"CrumbStore\":{\"crumb\":\"FWP\\u002F5EFll3U\"\n",
    "        # FWP\\u002F5EFll3U\n",
    "        lines = r.content.decode('unicode-escape').strip().replace('}', '\\n')\n",
    "\n",
    "        return cookie, lines.split('\\n')"
   ]
  },
  {
   "cell_type": "code",
   "execution_count": null,
   "metadata": {},
   "outputs": [],
   "source": [
    "def get_cookie_crumb(symbol):\n",
    "\n",
    "    cookie, lines = get_page_data(symbol)\n",
    "\n",
    "    crumb = split_crumb_store(find_crumb_store(lines))\n",
    "\n",
    "    return cookie, crumb"
   ]
  },
  {
   "cell_type": "code",
   "execution_count": null,
   "metadata": {},
   "outputs": [],
   "source": [
    "def get_now_epoch():\n",
    "\n",
    "    # @see https://www.linuxquestions.org/questions/programming-9/python-datetime-to-epoch-4175520007/#post5244109\n",
    "\n",
    "    return int(time.time())"
   ]
  },
  {
   "cell_type": "code",
   "execution_count": null,
   "metadata": {},
   "outputs": [],
   "source": [
    "def download_quotes(symbol):\n",
    "\n",
    "    start_date = 0\n",
    "\n",
    "    end_date = get_now_epoch()\n",
    "\n",
    "    cookie, crumb = get_cookie_crumb(symbol)\n",
    "\n",
    "    get_data(symbol, start_date, end_date, cookie, crumb)"
   ]
  },
  {
   "cell_type": "markdown",
   "metadata": {},
   "source": [
    "### 以下為主程式區"
   ]
  },
  {
   "cell_type": "code",
   "execution_count": null,
   "metadata": {},
   "outputs": [],
   "source": [
    "if __name__ == '__main__':\n",
    "\n",
    "    counter = 0\n",
    "    \n",
    "    while(True):\n",
    "\n",
    "        print()\n",
    "\n",
    "        counter += 1\n",
    "        \n",
    "        symbol = input('[#%d] Enter the symbol: ' % counter)\n",
    "\n",
    "        print(\"--------------------------------------------------\")\n",
    "\n",
    "        print(\"Downloading %s to %s.csv\" % (symbol, symbol))\n",
    "\n",
    "        download_quotes(symbol)\n",
    "\n",
    "        print(\"--------------------------------------------------\")\n",
    "\n",
    "        another_run = input('\\nContinue? (y/n)')\n",
    "\n",
    "        if (another_run == 'n' or another_run == 'N' or another_run == 'no' or another_run == 'No'):\n",
    "\n",
    "            print('\\n* Download %d stock quotes from Yahoo finance!\\n' % counter) \n",
    "\n",
    "            break\n",
    "        "
   ]
  },
  {
   "cell_type": "code",
   "execution_count": null,
   "metadata": {},
   "outputs": [],
   "source": []
  }
 ],
 "metadata": {
  "kernelspec": {
   "display_name": "Python 3",
   "language": "python",
   "name": "python3"
  },
  "language_info": {
   "codemirror_mode": {
    "name": "ipython",
    "version": 3
   },
   "file_extension": ".py",
   "mimetype": "text/x-python",
   "name": "python",
   "nbconvert_exporter": "python",
   "pygments_lexer": "ipython3",
   "version": "3.8.5"
  }
 },
 "nbformat": 4,
 "nbformat_minor": 2
}
