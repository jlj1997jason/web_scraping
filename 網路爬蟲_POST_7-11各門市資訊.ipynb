{
 "cells": [
  {
   "cell_type": "markdown",
   "metadata": {},
   "source": [
    "## **使用POST方法來爬取7-eleven各門市資訊**\n",
    "### [7-eleven ibon 便利生活站](http://www.ibon.com.tw/default.aspx)，[7-eleven ibon 便利生活站→門市查詢](http://www.ibon.com.tw/retail_inquiry.aspx#gsc.tab=0)\n",
    "#### HTTP 協定中的 GET 與 POST [[1]](https://blog.toright.com/posts/1203/%E6%B7%BA%E8%AB%87-http-method%EF%BC%9A%E8%A1%A8%E5%96%AE%E4%B8%AD%E7%9A%84-get-%E8%88%87-post-%E6%9C%89%E4%BB%80%E9%BA%BC%E5%B7%AE%E5%88%A5%EF%BC%9F.html) [[2]](https://www.w3schools.com/tags/ref_httpmethods.asp) [[3]](https://www.guru99.com/difference-get-post-http.html)\n",
    "#### Web表單(.aspx)基礎概念參考 [[1]](https://ithelp.ithome.com.tw/articles/10213192) [[2]](https://www.uj5u.com/qianduan/261211.html) [[3]](https://www.itread01.com/content/1549292247.html) [[4]](https://www.learncodewithmike.com/2020/10/scraping-ajax-websites-using-python.html) [[5]](https://iter01.com/48414.html) [[6]](https://tw.alphacamp.co/blog/ajax-asynchronous-request) [[7]](https://kknews.cc/zh-tw/code/ppg62n2.html) [[8]](https://blog.csdn.net/guofang9410/article/details/69696814)"
   ]
  },
  {
   "cell_type": "code",
   "execution_count": null,
   "metadata": {},
   "outputs": [],
   "source": [
    "# 可以去掉 python 輸出時，因為軟體版本所引起的警告的警告。\n",
    "import warnings\n",
    "warnings.filterwarnings('ignore')"
   ]
  },
  {
   "cell_type": "code",
   "execution_count": null,
   "metadata": {},
   "outputs": [],
   "source": [
    "import requests\n",
    "from bs4 import BeautifulSoup\n",
    "import pandas as pd\n",
    "\n",
    "# 建立一個縣市的 list，以方便抓取 7-eleven 各門市資訊\n",
    "city = ['基隆市', '台北市', '新北市', '桃園市', '新竹市', '新竹縣', '苗栗縣', \n",
    "        '台中市', '彰化縣', '雲林縣', '南投縣', '嘉義縣', '嘉義市', '台南市',\n",
    "        '高雄市', '屏東縣', '台東縣', '花蓮縣', '宜蘭縣', '連江縣', '金門縣', '澎湖縣']\n",
    "\n",
    "headers = { 'User-Agent': 'Mozilla/5.0 (Windows NT 10.0; Win64; x64) \\\n",
    "             AppleWebKit/537.36 (KHTML, like Gecko) Chrome/95.0.4638.54 Safari/537.36'} \n",
    "\n",
    "#使用迴圈來依序取得每一個城市的門市資訊\n",
    "for index, city in enumerate(city):\n",
    "    \n",
    "    # 剛剛在開發者模式觀察到的 Post 發出的資訊是那些\n",
    "    payload = {\n",
    "        'strTargetField':'COUNTY',\n",
    "        'strKeyWords':'%s' % city\n",
    "    }\n",
    "    \n",
    "    res = requests.post('https://www.ibon.com.tw/retail_inquiry_ajax.aspx', \n",
    "                        data = payload,\n",
    "                        headers = headers)\n",
    "    \n",
    "    # 第一次迴圈建立 dataframe，並將城市填入。資料的形式是 table，所以直接使用 read_html 快速拿下!\n",
    "\n",
    "    if index == 0:\n",
    "        \n",
    "        df_7_11_store = pd.read_html(res.text, header=0)[0]  # 因 pd.read_html 會傳回多個 DataFrame\n",
    "                                                             # 而本例中只有一個 DF，其索引值為 0\n",
    "                                        \n",
    "        df_7_11_store['縣市'] = city   # 加入一個名為 '縣市' 的新欄位\n",
    "    \n",
    "        print(len(df_7_11_store))\n",
    "   \n",
    "\n",
    "    # 第二次迴圈以上就將資訊直接 append 到 dataframe 裡\n",
    "    if index > 0:\n",
    "   \n",
    "        df_7_11_store_other_info = pd.read_html(res.text, header=0)[0]\n",
    "        \n",
    "        print(df_7_11_store_other_info)\n",
    "    \n",
    "        df_7_11_store_other_info['縣市'] = city   # 加入一個名為 '縣市' 的新欄位\n",
    "        \n",
    "        df_7_11_store = df_7_11_store.append(df_7_11_store_other_info)\n",
    "    \n",
    "    # 列印出目前處理的進度\n",
    "    # The star indicates that the field width (here: 5) will be passed as a parameter to print\n",
    "    print('%2d) %-*s %4d' % (index + 1, 5, city, pd.read_html(res.text, header = 0)[0].shape[0]))"
   ]
  },
  {
   "cell_type": "code",
   "execution_count": null,
   "metadata": {},
   "outputs": [],
   "source": [
    "# 將資料輸出成 Excel 檔案\n",
    "df_7_11_store.to_excel('7-11-sales-output.xlsx', encoding = \"utf8\", index = False)\n",
    "\n",
    "'''\n",
    "!pip install xlsxwriter\n",
    "\n",
    "import xlsxwriter\n",
    "\n",
    "xl = pd.ExcelFile('7-11-sales-output.xlsx')\n",
    "\n",
    "print(xl.sheet_names)\n",
    "'''\n",
    "\n",
    "# 將資料從 Excel 檔案中讀出\n",
    "df = pd.read_excel('7-11-sales-output.xlsx')\n",
    "\n",
    "df.index += 1\n",
    "\n",
    "print(df.head())  # 只列印出前五筆資料(預設值)\n",
    "\n",
    "\"\"\"\n",
    "print(df)          # 列印出全部的資料\n",
    "print(df.head(10)) # 只列印出前十筆資料\n",
    "print(df.tail())   # 只列印出最後五筆資料\n",
    "\"\"\""
   ]
  },
  {
   "cell_type": "markdown",
   "metadata": {},
   "source": [
    "[read-excel-file-display-in-html](https://catamphetamine.github.io/read-excel-file/)"
   ]
  },
  {
   "cell_type": "code",
   "execution_count": null,
   "metadata": {},
   "outputs": [],
   "source": [
    "# 存成 html 檔，並能成功顯示中文\n",
    "html = df_7_11_store.to_html() \n",
    "\n",
    "with open(\"7-11-sales-output.html\", \"w\", encoding = \"utf8\") as file: \n",
    "        \n",
    "    file.writelines('<meta charset = \"UTF-8\">\\n')\n",
    "    \n",
    "    file.write(html)"
   ]
  }
 ],
 "metadata": {
  "kernelspec": {
   "display_name": "Python 3",
   "language": "python",
   "name": "python3"
  },
  "language_info": {
   "codemirror_mode": {
    "name": "ipython",
    "version": 3
   },
   "file_extension": ".py",
   "mimetype": "text/x-python",
   "name": "python",
   "nbconvert_exporter": "python",
   "pygments_lexer": "ipython3",
   "version": "3.8.3"
  }
 },
 "nbformat": 4,
 "nbformat_minor": 2
}
