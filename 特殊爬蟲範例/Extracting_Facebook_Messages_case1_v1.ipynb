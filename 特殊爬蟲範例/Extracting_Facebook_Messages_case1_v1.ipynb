{
 "cells": [
  {
   "cell_type": "markdown",
   "metadata": {},
   "source": [
    "## Facebook 網頁爬取\n",
    "### [Facebook](https://www.facebook.com/)"
   ]
  },
  {
   "cell_type": "code",
   "execution_count": null,
   "metadata": {},
   "outputs": [],
   "source": [
    "# 可以去掉 python 輸出時，因為軟體版本所引起的警告的警告。\n",
    "import warnings\n",
    "warnings.filterwarnings('ignore')"
   ]
  },
  {
   "cell_type": "markdown",
   "metadata": {},
   "source": [
    "#### 加裝 selenium，如果已經裝過此套件請跳過"
   ]
  },
  {
   "cell_type": "code",
   "execution_count": null,
   "metadata": {},
   "outputs": [],
   "source": [
    "!pip install selenium"
   ]
  },
  {
   "cell_type": "markdown",
   "metadata": {},
   "source": [
    "#### 加裝 getpass 與 stdiomask 以便輸入臉書密碼時可以隱藏密碼字串內容 [[1(官網)]](https://docs.python.org/zh-tw/3/library/getpass.html) [[2]](https://ephrain.net/python-%E4%BD%BF%E7%94%A8-getpass-getpass-%E5%8F%96%E5%BE%97%E4%BD%BF%E7%94%A8%E8%80%85%E8%BC%B8%E5%85%A5%E7%9A%84%E5%AF%86%E7%A2%BC/) [[3]](https://www.itread01.com/content/1530439082.html) [[4]](https://vimsky.com/zh-tw/examples/detail/python-method-getpass.getpass.html)"
   ]
  },
  {
   "cell_type": "code",
   "execution_count": null,
   "metadata": {},
   "outputs": [],
   "source": [
    "import getpass\n",
    "\n",
    "username = input('請輸入臉書個人帳號 ： ')\n",
    "#print('確認輸入帳號為 ： ', username)\n",
    "\n",
    "password = getpass.getpass('請輸入臉書個人密碼 ： ')\n",
    "#print('確認輸入密碼為 ： ', password)"
   ]
  },
  {
   "cell_type": "markdown",
   "metadata": {},
   "source": [
    "#### 如何使用 selenium.webdriver.chrome.options.Options？ [[1]](https://stackoverflow.max-everyday.com/2019/12/selenium-chrome-options/) [[2]](https://vimsky.com/zh-tw/examples/detail/python-method-selenium.webdriver.ChromeOptions.html)"
   ]
  },
  {
   "cell_type": "code",
   "execution_count": null,
   "metadata": {},
   "outputs": [],
   "source": [
    "from selenium import webdriver\n",
    "from selenium.webdriver.chrome.options import Options\n",
    "\n",
    "from bs4 import BeautifulSoup\n",
    "import time\n",
    "\n",
    "login_to_pause = 3   # 登入 FB 後暫停駐留的時間以等候主頁面載入，以秒為單位。"
   ]
  },
  {
   "cell_type": "code",
   "execution_count": null,
   "metadata": {},
   "outputs": [],
   "source": [
    "options = webdriver.ChromeOptions()\n",
    "\n",
    "# 以下動作為限制 chrome 瀏覽器不跳出登入時相關的通知訊息，以利畫面爬取任務。\n",
    "\n",
    "options.add_argument(\"--disable-infobars\")\n",
    "\n",
    "options.add_argument(\"start-maximized\")\n",
    "\n",
    "options.add_argument(\"--disable-extensions\")\n",
    "\n",
    "options.add_experimental_option(\"prefs\", \\\n",
    "                               {\"profile.default_content_setting_values.notifications\": 2 }) "
   ]
  },
  {
   "cell_type": "code",
   "execution_count": null,
   "metadata": {},
   "outputs": [],
   "source": [
    "driver = webdriver.Chrome(chrome_options = options)   # 呼叫 Chrome 並放入等號左邊的 driver，括號內放入 options 設定選項。\n",
    "driver.get(\"https://www.facebook.com/\")    # 開啟 fb 的首頁。\n",
    "\n",
    "driver.find_element_by_id(\"email\").send_keys(username)   # 將 username 改為您的臉書帳號\n",
    "driver.find_element_by_id(\"pass\").send_keys(password)    # 將 password 改為您的臉書密碼\n",
    "driver.find_element_by_name(\"login\").submit()    # 透過 webdriver 按下登入按鈕\n",
    "\n",
    "driver.implicitly_wait(login_to_pause)    # 登入後暫停動作數秒鐘，您可以視網路壅塞狀況自行加減。"
   ]
  },
  {
   "cell_type": "code",
   "execution_count": null,
   "metadata": {},
   "outputs": [],
   "source": [
    "fb_dest = \"https://www.facebook.com/MilitarySpokesman/\"\n",
    "\n",
    "driver.get(fb_dest)    # 填入所欲爬取的 fb 網址\n",
    "\n",
    "driver.implicitly_wait(login_to_pause)"
   ]
  },
  {
   "cell_type": "code",
   "execution_count": null,
   "metadata": {},
   "outputs": [],
   "source": [
    "from selenium.webdriver.common.keys import Keys  \n",
    "from selenium.webdriver.common.action_chains import ActionChains  \n",
    "import pandas as pd\n",
    "\n",
    "max_scroll_pages = 30    # 欲爬取的頁面數目，此頁面數字可以調整。\n",
    "\n",
    "sec_to_pause = 1    # 暫停駐留在一個頁面的時間，以秒為單位。\n",
    "\n",
    "for repeated_action in range(1, max_scroll_pages + 1):\n",
    " \n",
    "    soup = BeautifulSoup(driver.page_source, 'lxml')    # 使用 BeautifulSoup() 來解析取回頁面，解釋模式選擇使用 'lxml' 模式。\n",
    "    \n",
    "    all_titles = soup.find_all('div', {'class':'kvgmc6g5 cxmmr5t8 oygrvhab hcukyx3x c1et5uql ii04i59q'})   # 抓取所有粉絲頁面公告的訊息。\n",
    "    \n",
    "    time.sleep(sec_to_pause)   # 每滾動一次暫停在該頁面數秒鐘，此時間可以調整。\n",
    "    \n",
    "    # Similar to pressing the PgDn button on the keyboard, it can be replaced with Keys.DOWN (down arrow, but this pull-down progress is slow)  \n",
    "    ActionChains(driver).send_keys(Keys.PAGE_DOWN).perform() \n",
    "    \n",
    "    # Scroll down 500 pixels, the mouse position also changes\n",
    "    #driver.execute_script(\"window.scrollBy(0, 500)\", \"\")\n",
    "\n",
    "    \n",
    "#print(\"\\n總共有\", len(all_titles), \"個發文分享！\\n\")\n",
    "\n",
    "#print(all_titles, '\\n')\n",
    "\n",
    "df = pd.DataFrame(columns = ['發文主題'])\n",
    "\n",
    "for article in all_titles:\n",
    "    \n",
    "    df = df.append({'發文主題': article.getText()}, ignore_index = True)\n",
    "\n",
    "df.index += 1\n",
    "\n",
    "df\n",
    "\n",
    "df.style\\\n",
    "    .set_table_styles([ dict(selector = 'th', props = [('text-align', 'center')])])\\\n",
    "    .set_properties(**{'text-align': 'left', 'font-weight': 'bold'}, color = \"blue\")"
   ]
  },
  {
   "cell_type": "markdown",
   "metadata": {},
   "source": [
    "#### 如何在python中使用Selenium Webdriver滾動網頁 [[1]](https://tw.siwib.org/185752-how-can-i-scroll-a-ZCOXBS)  [[2]](https://stackoverflow.com/questions/20986631/how-can-i-scroll-a-web-page-using-selenium-webdriver-in-python) [[3]](https://stackoverflow.com/questions/63647849/scroll-to-the-end-of-the-infinite-loading-page-using-selenium-python) [[棒棒]](https://blog.happycoding.today/pythonbeginner-ep7/)\n",
    "#### HTML DOM 快速導覽 - window 物件的方法 scrollBy() [[1]](https://pydoing.blogspot.com/2011/10/javascript-window-scrollby.html)  [[2]](https://www.programmersought.com/article/60303803225/)"
   ]
  },
  {
   "cell_type": "code",
   "execution_count": null,
   "metadata": {},
   "outputs": [],
   "source": [
    "driver.close()  # 關閉由 Python crawler-selenium 所開啟的網頁"
   ]
  }
 ],
 "metadata": {
  "kernelspec": {
   "display_name": "Python 3",
   "language": "python",
   "name": "python3"
  },
  "language_info": {
   "codemirror_mode": {
    "name": "ipython",
    "version": 3
   },
   "file_extension": ".py",
   "mimetype": "text/x-python",
   "name": "python",
   "nbconvert_exporter": "python",
   "pygments_lexer": "ipython3",
   "version": "3.8.8"
  }
 },
 "nbformat": 4,
 "nbformat_minor": 4
}
