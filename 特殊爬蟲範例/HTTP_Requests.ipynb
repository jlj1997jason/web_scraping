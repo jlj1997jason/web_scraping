{
 "cells": [
  {
   "cell_type": "markdown",
   "metadata": {},
   "source": [
    "# 網路爬蟲（Web Crawling） vs. 網頁資料擷取（Web Scraping）\n",
    "\n",
    "### 參考內容 [[1]](http://prowebscraping.com/web-scraping-vs-web-crawling/) [[2]](https://www.webscrapingpro.tw/what-is-web-scraping/) [[3]](https://limeproxies.netlify.app/blog/crawling-vs-scraping)  [[4]](https://dzone.com/articles/web-scraping-vs-web-crawling-whats-the-difference)  [[5]](https://www.webscrapingapi.com/web-scraping-vs-web-crawling/) [[video1]](https://www.youtube.com/watch?v=cwZF87qIF7c&ab_channel=Oxylabs) [[video2]](https://www.youtube.com/watch?v=byg7CgRNkAU&ab_channel=TamimShahriar) [[video3]](https://www.youtube.com/watch?v=QbkXCkcmHJI&ab_channel=Octoparse)"
   ]
  },
  {
   "cell_type": "markdown",
   "metadata": {},
   "source": [
    "# 網頁伺服器阻擋造成讀取錯誤\n",
    "\n",
    "## 現在有些網頁會基於安全理由，或是不想讓太多網路爬蟲造訪造成網路流量增加。因此會設計程式阻檔網路爬蟲擷取資訊，例如使用 [User Agent Blocking](https://www.google.com/search?q=User+Agent+Blocking&rlz=1C1EJFA_enTW798TW798&oq=User+Agent+Blocking&aqs=chrome..69i57j69i60l3&sourceid=chrome&ie=UTF-8) 機制來實現，碰上這些問題就會產生 \"HTTPError : 406\" 的錯誤。\n",
    "\n",
    "### [本範例測試網站 https://stock.wespai.com/sp/2](https://stock.wespai.com/sp/2)"
   ]
  },
  {
   "cell_type": "code",
   "execution_count": null,
   "metadata": {},
   "outputs": [],
   "source": [
    "import requests\n",
    "\n",
    "url = 'https://stock.wespai.com/sp/2'\n",
    "\n",
    "htmlfile = requests.get(url) # htmlfile 為對方(目標)網站回傳的 Response物件 \n",
    "\n",
    "# 如果發送了一個錯誤請求 (一個 4XX 客戶端錯誤，或者 5XX服務器錯誤響應)，\n",
    "# 我們可以通過 Response物件.raise_for_status() 來拋出異常\n",
    "htmlfile.raise_for_status()"
   ]
  },
  {
   "cell_type": "markdown",
   "metadata": {},
   "source": [
    "\n",
    "## 如何阻止搜尋引擎爬(抓取)你的網站?\n",
    "### [1](https://www.newscan.com.tw/all-seo/robots-block-search-engines.htm), [2](https://www.itread01.com/content/1546963021.html), [3](https://segmentfault.com/a/1190000005840672), [4](https://blog.csdn.net/qq_34175893/article/details/80185483?utm_medium=distribute.pc_relevant.none-task-blog-BlogCommendFromMachineLearnPai2-3.nonecase&depth_1-utm_source=distribute.pc_relevant.none-task-blog-BlogCommendFromMachineLearnPai2-3.nonecase)"
   ]
  },
  {
   "cell_type": "markdown",
   "metadata": {},
   "source": [
    "## 使用 Exception 例外的寫法來防止錯誤卡機\n",
    "### [HTTP 狀態碼 (Status Codes)簡介](https://notfalse.net/48/http-status-codes)"
   ]
  },
  {
   "cell_type": "code",
   "execution_count": null,
   "metadata": {},
   "outputs": [],
   "source": [
    "import requests\n",
    "\n",
    "url = 'https://stock.wespai.com/sp/2'\n",
    "\n",
    "try:\n",
    "\n",
    "    htmlfile = requests.get(url)\n",
    "    \n",
    "    htmlfile.raise_for_status()     # 如果發送了一個錯誤請求 (一個 4XX 客戶端錯誤，或者 5XX服務器錯誤響應)，我們可以通過 Response.raise_for_status() 來拋出異常\n",
    "\n",
    "except Exception as err:            # err 是系統自訂的錯誤訊息\n",
    "\n",
    "    print(\"網頁下載失敗：%s\\n\" % (err))\n",
    "\n",
    "else:\n",
    "\n",
    "    print(\"網頁下載成功\\n\")\n",
    "    \n",
    "finally:\n",
    "    \n",
    "    print(\"連線測試結束！\")"
   ]
  },
  {
   "cell_type": "markdown",
   "metadata": {},
   "source": [
    "![User Agent Process](pic/user-agent-process.png) ![Http Request Response Process](pic/http-basics.jpg)"
   ]
  },
  {
   "cell_type": "markdown",
   "metadata": {},
   "source": [
    "## 如何解決網頁伺服器阻擋造成讀取錯誤？ => 使用爬蟲程式偽裝成瀏覽器的方式\n",
    "\n",
    "## 方法：在前面加上 headers 內容\n",
    "### [做功課研究網站攻破策略(List of User Agent strings)](https://deviceatlas.com/blog/list-of-user-agent-strings)\n",
    "### Chrome 瀏覽器 F12 網頁開發工具教學 [[1]](https://web4theme.com/article/chrome%E7%80%8F%E8%A6%BD%E5%99%A8f12%E7%B6%B2%E9%A0%81%E9%96%8B%E7%99%BC%E5%B7%A5%E5%85%B7%E6%95%99%E5%AD%B8.html) [[2]](https://linyencheng.github.io/2018/12/04/tool-google-developer/) [[video]](https://www.youtube.com/watch?v=u48D0aBycP8)"
   ]
  },
  {
   "cell_type": "code",
   "execution_count": null,
   "metadata": {},
   "outputs": [],
   "source": [
    "import requests\n",
    "\n",
    "headers = { 'User-Agent':'Mozilla/5.0 (Windows NT 10.0; Win64; x64)\\\n",
    "             AppleWebKit/537.36 (KHTML, like Gecko)\\\n",
    "             Chrome/83.0.4103.61 Safari/537.36', \n",
    "          }       # '\\' 代表同一行的敘述\n",
    "\n",
    "url = 'https://stock.wespai.com/sp/2'\n",
    "\n",
    "\n",
    "try:\n",
    "\n",
    "    htmlfile = requests.get(url, headers = headers)  # 加上 header = headers\n",
    "    \n",
    "    htmlfile.encoding = \"utf-8\"    # 此行必須要加，否則中文變成亂碼\n",
    "    \n",
    "    htmlfile.raise_for_status()\n",
    "\n",
    "except Exception as err:            # err 是系統自訂的錯誤訊息\n",
    "\n",
    "    print(\"網頁下載失敗:\\n %s\" % (err))\n",
    "\n",
    "else:\n",
    "\n",
    "    print(\"\\n網頁下載成功：使用偽裝瀏覽器方式擷取網路資料成功！\")\n",
    "\n",
    "    print(\"\\n網頁內容大小 = %d 位元組\" % (len(htmlfile.text)))  # 可取得網頁內容大小\n",
    "\n",
    "    print('\\n', htmlfile.text)      # 列印網頁內容\n",
    "    \n",
    "    print()\n",
    "    \n",
    "    \n",
    "finally:\n",
    "    \n",
    "    print(\"連線測試結束！\")"
   ]
  },
  {
   "cell_type": "markdown",
   "metadata": {},
   "source": [
    "### ========== 以下為相關知識的補充 ==============="
   ]
  },
  {
   "cell_type": "markdown",
   "metadata": {},
   "source": [
    "### 進一步認識 Requests - Response 相關指令"
   ]
  },
  {
   "cell_type": "code",
   "execution_count": null,
   "metadata": {},
   "outputs": [],
   "source": [
    "import requests\n",
    "\n",
    "url = 'https://stock.wespai.com/sp/2'\n",
    "\n",
    "response = requests.get(url)"
   ]
  },
  {
   "cell_type": "code",
   "execution_count": null,
   "metadata": {},
   "outputs": [],
   "source": [
    "dir(response)"
   ]
  },
  {
   "cell_type": "markdown",
   "metadata": {},
   "source": [
    "### 看一下其它內容如 \n",
    "1. **response.apparent_encoding**\n",
    "1. **response.encoding**\n",
    "1. **response.headers**\n",
    "1. **response.content**\n",
    "1. **response.request**\n",
    "1. **response.status_code**\n",
    "1. **response.text**"
   ]
  },
  {
   "cell_type": "code",
   "execution_count": null,
   "metadata": {},
   "outputs": [],
   "source": [
    "response.request.headers"
   ]
  },
  {
   "cell_type": "markdown",
   "metadata": {},
   "source": [
    "**<font color=0000FF>'User-Agent': 'python-requests/XXXXX'</font> 代表是由Python所寫的軟體程式發起的連線！**"
   ]
  },
  {
   "cell_type": "markdown",
   "metadata": {},
   "source": [
    "### 改變 User-Agent 的內容，再重做一次"
   ]
  },
  {
   "cell_type": "code",
   "execution_count": null,
   "metadata": {},
   "outputs": [],
   "source": [
    "import requests\n",
    "\n",
    "headers = {'User-Agent':'Mozilla/5.0'}\n",
    "\n",
    "url = 'https://stock.wespai.com/sp/2'\n",
    "\n",
    "response = requests.get(url, headers = headers)\n",
    "\n",
    "response.status_code\n",
    "\n",
    "response.request.headers"
   ]
  },
  {
   "cell_type": "markdown",
   "metadata": {},
   "source": [
    "## 下列為本主題相關程式設計寫作風格參考範例"
   ]
  },
  {
   "cell_type": "markdown",
   "metadata": {},
   "source": [
    "response = requests.get(download_link, auth=(myUsername, myPassword),  headers={'User-Agent': 'Mozilla'})\n",
    "\n",
    "print (response.encoding)\n",
    "\n",
    "if response.status_code is 200:\n",
    "\n",
    "    body = response.content\n",
    "\n",
    "else:\n",
    "    print (\"Unable to get response with Code : %d \" % (response.status_code))"
   ]
  }
 ],
 "metadata": {
  "kernelspec": {
   "display_name": "Python 3",
   "language": "python",
   "name": "python3"
  },
  "language_info": {
   "codemirror_mode": {
    "name": "ipython",
    "version": 3
   },
   "file_extension": ".py",
   "mimetype": "text/x-python",
   "name": "python",
   "nbconvert_exporter": "python",
   "pygments_lexer": "ipython3",
   "version": "3.7.11"
  }
 },
 "nbformat": 4,
 "nbformat_minor": 2
}
