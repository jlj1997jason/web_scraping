{
 "cells": [
  {
   "cell_type": "markdown",
   "metadata": {},
   "source": [
    "## ESPN NBA 球員個人資料、賽事紀錄與成績排序\n",
    "### [ESPN NBA Player Stats](http://www.espn.com/nba/statistics/player/_/stat/assists/sort/avgAssists/)"
   ]
  },
  {
   "cell_type": "markdown",
   "metadata": {},
   "source": [
    "##  ※僅抓取網站主頁球員資料"
   ]
  },
  {
   "cell_type": "code",
   "execution_count": null,
   "metadata": {},
   "outputs": [],
   "source": [
    "# 可以去掉 python 輸出時，因為軟體版本所引起的警告的警告。\n",
    "import warnings\n",
    "warnings.filterwarnings('ignore')"
   ]
  },
  {
   "cell_type": "code",
   "execution_count": 1,
   "metadata": {},
   "outputs": [],
   "source": [
    "import requests\n",
    "from bs4 import BeautifulSoup\n",
    "import time"
   ]
  },
  {
   "cell_type": "code",
   "execution_count": null,
   "metadata": {},
   "outputs": [],
   "source": [
    "# 以下兩個 url 位址，請任意二選一\n",
    "\n",
    "#url ='http://www.espn.com/nba/statistics/player/_/stat/assists/sort/avgAssists/'   \n",
    "url = 'https://www.espn.com/nba/stats/player'\n",
    "\n",
    "headers= {'User-Agent': 'Mozilla/5.0'}    # 此行可以省略"
   ]
  },
  {
   "cell_type": "code",
   "execution_count": null,
   "metadata": {},
   "outputs": [],
   "source": [
    "response = requests.get(url, headers = headers)"
   ]
  },
  {
   "cell_type": "code",
   "execution_count": null,
   "metadata": {},
   "outputs": [],
   "source": [
    "response.status_code"
   ]
  },
  {
   "cell_type": "code",
   "execution_count": null,
   "metadata": {},
   "outputs": [],
   "source": [
    "response.text"
   ]
  },
  {
   "cell_type": "code",
   "execution_count": null,
   "metadata": {},
   "outputs": [],
   "source": [
    "import pandas as pd\n",
    "\n",
    "tables = pd.read_html(response.text)\n",
    "\n",
    "print('找出 %02d 個表格' % len(tables))\n",
    "\n",
    "# 看一下第一個表格內容\n",
    "print('\\n\\n第一個表格：\\n')\n",
    "df1 = tables[0]\n",
    "print(df1)\n",
    "\n",
    "# 看一下第二個表格內容\n",
    "print('\\n\\n第二個表格：\\n')\n",
    "df2 = tables[1]  \n",
    "print(df2)"
   ]
  },
  {
   "cell_type": "code",
   "execution_count": null,
   "metadata": {},
   "outputs": [],
   "source": [
    "df3 = pd.concat([df1, df2], sort = False, axis = 1)    # sort = False 的目的是要關閉警告訊息\n",
    "\n",
    "df3.set_index('RK', inplace = True)    # 將 df3 的索引值設為 RK 欄位內的數值資料\n",
    "\n",
    "print(df3, '\\n')"
   ]
  },
  {
   "cell_type": "code",
   "execution_count": null,
   "metadata": {},
   "outputs": [],
   "source": [
    "pd.set_option('display.max.columns', 23)   # 設定在 Jypyter Notebook 中可以看到原表格內的最大欄位數目\n",
    "\n",
    "pd.set_option('display.max.rows', 50)      # 設定在 Jypyter Notebook 中可以看到原表格內的最大列的數目  \n",
    "\n",
    "df3    # 如果要讓上面的 set_option 效果可以呈現的話，一定要如此寫；如使用 print(df3)則無效"
   ]
  },
  {
   "cell_type": "markdown",
   "metadata": {},
   "source": [
    "# ============================================================="
   ]
  },
  {
   "cell_type": "markdown",
   "metadata": {},
   "source": [
    "## ※抓取網站上所有頁面上球員的資料(2020-21目前共有6頁)"
   ]
  },
  {
   "cell_type": "markdown",
   "metadata": {},
   "source": [
    "## 使用 Selenium Web Scraping 套件\n",
    "### 1. [Selenium with Python中文手冊](https://selenium-python-zh.readthedocs.io/en/latest/index.html)\n",
    "### 2. [Selenium Chrome Webdriver 下載](https://chromedriver.chromium.org/downloads)\n",
    "### 3. 相關參考 [1](https://jzchangmark.wordpress.com/2015/02/26/selenium-%E4%BD%BF%E7%94%A8-chrome-%E7%80%8F%E8%A6%BD%E5%99%A8-webdriver/), [2](https://www.youtube.com/watch?v=soPZ4rqlXWI), [3](https://medium.com/@bob800530/selenium-1-%E9%96%8B%E5%95%9Fchrome%E7%80%8F%E8%A6%BD%E5%99%A8-21448980dff9), [4](https://stackoverflow.max-everyday.com/2018/03/selenium-chrome-webdriver/), [5](https://officeguide.cc/windows-python-selenium-automation-scripts-tutorial-examples/)"
   ]
  },
  {
   "cell_type": "markdown",
   "metadata": {},
   "source": [
    "#### 加裝 selenium"
   ]
  },
  {
   "cell_type": "code",
   "execution_count": null,
   "metadata": {},
   "outputs": [],
   "source": [
    "!pip install selenium"
   ]
  },
  {
   "cell_type": "markdown",
   "metadata": {},
   "source": [
    "#### <font color='FF0000'>切記！以下這一段您使用的版本務必要與現在 Chrome 瀏覽器使用的版本一致，Chrome 的 webdriver 可至 https://chromedriver.chromium.org/downloads 中下載至目前的工作目錄路徑下。</font>"
   ]
  },
  {
   "cell_type": "code",
   "execution_count": null,
   "metadata": {},
   "outputs": [],
   "source": [
    "from selenium import webdriver\n",
    "from selenium.webdriver.common.by import By\n",
    "from selenium.webdriver.support.wait import WebDriverWait\n",
    "from selenium.webdriver.support import expected_conditions as EC\n",
    "from selenium.common.exceptions import TimeoutException\n",
    "\n",
    "# 以下兩個 url 位址，請任意二選一\n",
    "\n",
    "#url ='http://www.espn.com/nba/statistics/player/_/stat/assists/sort/avgAssists/'   \n",
    "url = 'https://www.espn.com/nba/stats/player'\n",
    "\n",
    "browser = webdriver.Chrome()  # 啟動 Chrome Browser， 'chromedriver.exe'與本 notebook 程式在同一路徑之下\n",
    "\n",
    "browser.get(url)   # 連接目的地網頁伺服器\n",
    "\n",
    "while True:\n",
    "\n",
    "    try:\n",
    "    \n",
    "        button = WebDriverWait(browser, 10).until(EC.presence_of_element_located((By.LINK_TEXT, 'Show More')))\n",
    "        \n",
    "        button.click()\n",
    "        \n",
    "        print(\"SHOW/LOAD MORE RESULTS button clicked\")  # 共有 6 頁，第一頁不算，應該會執行按鈕 5 次\n",
    "    \n",
    "    except TimeoutException:\n",
    "        \n",
    "        print(\"No more SHOW/LOAD MORE RESULTS button to be clicked\")  # 最後 10 秒後會遇上 selenium.common.exceptions.TimeoutException\n",
    "        \n",
    "        break"
   ]
  },
  {
   "cell_type": "markdown",
   "metadata": {},
   "source": [
    "### 請記得此時不可以關閉ESPN NBA網頁的瀏覽器(在本例子中所使用的是 Chrome)"
   ]
  },
  {
   "cell_type": "code",
   "execution_count": null,
   "metadata": {},
   "outputs": [],
   "source": [
    "import pandas as pd\n",
    "\n",
    "tables = pd.read_html(browser.page_source)\n",
    "\n",
    "print('找出 %02d 個表格' % len(tables))\n",
    "\n",
    "df1 = tables[0]  # 第一個表格\n",
    "\n",
    "df2 = tables[1]  # 第二個表格\n",
    "\n",
    "df3 = pd.concat([df1, df2], sort = False, axis = 1)  # sort = False 關閉警告訊息\n",
    "\n",
    "df3.set_index('RK', inplace = True) \n",
    "\n",
    "pd.set_option('display.max.columns', 22)   # 在此例中無用處，因原表格內的欄位數目僅有六項\n",
    "\n",
    "pd.set_option('display.max.rows', 262)\n",
    "\n",
    "df3"
   ]
  },
  {
   "cell_type": "code",
   "execution_count": null,
   "metadata": {},
   "outputs": [],
   "source": [
    "browser.quit()    # 關閉瀏覽器與其 driver"
   ]
  },
  {
   "cell_type": "code",
   "execution_count": null,
   "metadata": {},
   "outputs": [],
   "source": []
  }
 ],
 "metadata": {
  "kernelspec": {
   "display_name": "Python 3",
   "language": "python",
   "name": "python3"
  },
  "language_info": {
   "codemirror_mode": {
    "name": "ipython",
    "version": 3
   },
   "file_extension": ".py",
   "mimetype": "text/x-python",
   "name": "python",
   "nbconvert_exporter": "python",
   "pygments_lexer": "ipython3",
   "version": "3.8.8"
  }
 },
 "nbformat": 4,
 "nbformat_minor": 1
}
