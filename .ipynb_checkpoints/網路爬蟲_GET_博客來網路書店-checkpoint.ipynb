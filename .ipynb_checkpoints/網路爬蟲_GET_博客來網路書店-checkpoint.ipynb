{
 "cells": [
  {
   "cell_type": "markdown",
   "metadata": {},
   "source": [
    "# 使用GET方法在博客來網路書店搜尋特定字串，並爬取單頁所有項目名稱與價格"
   ]
  },
  {
   "cell_type": "markdown",
   "metadata": {},
   "source": [
    "### [博客來網路書店](http://search.books.com.tw)"
   ]
  },
  {
   "cell_type": "code",
   "execution_count": null,
   "metadata": {},
   "outputs": [],
   "source": [
    "# 可以去掉 python 輸出時，因為軟體版本所引起的警告的警告。\n",
    "import warnings # 警告模組\n",
    "warnings.filterwarnings('ignore')\n",
    "\n",
    "#==========================================================================================\n",
    "\n",
    "import requests   # Python 中使用 requests 模組建立各種 HTTP 請求，從網頁伺服器上取得想要的資料\n",
    "\n",
    "item = input('請輸入要搜尋的項目：')\n",
    "\n",
    "url = \"http://search.books.com.tw/search/query/key/%s/cat/all\" % item\n",
    "\n",
    "headers = { 'User-Agent':'Mozilla/5.0 (Windows NT 10.0; Win64; x64)\\\n",
    "             AppleWebKit/537.36 (KHTML, like Gecko)\\\n",
    "             Chrome/91.0.4472.77 Safari/537.36', \n",
    "          }       # '\\'為續行字符，代表與下一行為同一行的敘述\n",
    "\n",
    "res = requests.get(url, headers = headers)\n",
    "\n",
    "print (res.text)   # 使用 text 屬性將取得網頁的原始碼呈現出來"
   ]
  },
  {
   "cell_type": "markdown",
   "metadata": {},
   "source": [
    "### [HTML標籤列表](http://web.thu.edu.tw/hzed/www/tag.htm)， [HTML語法教學](http://www.dlps.tc.edu.tw/html_teach/)\n"
   ]
  },
  {
   "cell_type": "markdown",
   "metadata": {},
   "source": [
    "#### BeautifulSoup4 是一個 Python 的函式庫模組，可以讓開發者僅須撰寫非常少量的程式碼，就可以快速解析網頁 HTML 內碼，從中萃取出使用者有興趣的資料、去蕪存菁，降低網路爬蟲程式的開發門檻、加快程式撰寫速度。\n",
    "#### BeautifulSoup 可以支援的解析器其實不只一種，有 html.parser（Python 內建）、html5lib 與 lxml 等三種，根據官方文件的推薦，解析速度最快的是 lxml。"
   ]
  },
  {
   "cell_type": "code",
   "execution_count": null,
   "metadata": {},
   "outputs": [],
   "source": [
    "from bs4 import BeautifulSoup    # 必須先裝 BeautifulSoup4\n",
    "\n",
    "soup = BeautifulSoup(res.text, 'html.parser')   # 將 html格式的字串傳進 BeautifulSoup\n",
    "\n",
    "#print(soup)              # 直接印結果\n",
    "#print(soup.prettify())   # 如果想要呈現正常的 html 格式的話，可以多加 prettify()這個函式進來\n",
    "\n",
    "print (soup.title.string)    # 取得不同 tag 的內容，例如 'title'，在此亦可用 soup.title.text 來取得標題內容。"
   ]
  },
  {
   "cell_type": "code",
   "execution_count": null,
   "metadata": {},
   "outputs": [],
   "source": [
    "#soup?"
   ]
  },
  {
   "cell_type": "code",
   "execution_count": null,
   "metadata": {},
   "outputs": [],
   "source": [
    "#dir(soup)"
   ]
  },
  {
   "cell_type": "code",
   "execution_count": null,
   "metadata": {},
   "outputs": [],
   "source": [
    "#help(soup.find_all)"
   ]
  },
  {
   "cell_type": "code",
   "execution_count": null,
   "metadata": {},
   "outputs": [],
   "source": [
    "import re\n",
    "\n",
    "items = soup.find_all('tbody', id = re.compile(\"itemlist_[A-Z0-9]\\d{9}\"))    # 撈出所有頁面上相關的 tbody 區塊\n",
    "\n",
    "print(items)"
   ]
  },
  {
   "cell_type": "code",
   "execution_count": null,
   "metadata": {},
   "outputs": [],
   "source": [
    "print('本頁面共有', len(items), '筆資料！')"
   ]
  },
  {
   "cell_type": "code",
   "execution_count": null,
   "metadata": {},
   "outputs": [],
   "source": [
    "print(type(items), '\\n')   # 以一個 List 型態傳回\n",
    "\n",
    "# 以下是用來取出第一本書的資料區塊\n",
    "print(items[0], '\\n')       # List 中的第一個資料 (index = 0)\n",
    "\n",
    "print(type(items[0]), '\\n') # List 中的第一個資料的資料類別型態"
   ]
  },
  {
   "cell_type": "code",
   "execution_count": null,
   "metadata": {},
   "outputs": [],
   "source": [
    "# 以下是用來取出第一本書的書名\n",
    "print(items[0].select(\"div.box_1 a img\")[0]['alt'], '\\n')\n",
    "\n",
    "print(type(items[0].select(\"div.box_1 a img\")[0]['alt']))"
   ]
  },
  {
   "cell_type": "code",
   "execution_count": null,
   "metadata": {},
   "outputs": [],
   "source": [
    "# 以下是用來取出書的價格，注意：頁面上最後有一些是博客來推薦的書籍，非查詢結果\n",
    "\n",
    "items[0].select(\"ul.list-nav.clearfix li strong\")[0].text   # 抓出整個 span 區塊"
   ]
  },
  {
   "cell_type": "code",
   "execution_count": null,
   "metadata": {},
   "outputs": [],
   "source": [
    "import pandas as pd\n",
    "\n",
    "# 爬取書名\n",
    "books = pd.Series()\n",
    "\n",
    "# 爬取價格\n",
    "prices = pd.Series()\n",
    "\n",
    "for item in items:\n",
    "    \n",
    "    book = item.select(\"div.box_1 a img\")[0]['alt']\n",
    "    \n",
    "    #print(book)\n",
    "    \n",
    "    #加到 pd.Series,(drop = True)用以重設索引值，從 0 開始\n",
    "    books = books.append(pd.Series([book])).reset_index(drop = True)\n",
    "    \n",
    "    price = item.select(\"ul.list-nav.clearfix li strong\")\n",
    "    \n",
    "    if len(price) == 1:  # 只有優惠價格\n",
    "        \n",
    "        # .string 取 tag<strong></strong> 中的文字內容 \n",
    "        prices = prices.append(pd.Series([price[0].string])).reset_index(drop = True) \n",
    "        \n",
    "    elif (len(price) == 2): #有打折數 +價格\n",
    "        \n",
    "        # .string 取 tag<strong></strong> 中的文字內容 \n",
    "        prices = prices.append(pd.Series([price[1].string])).reset_index(drop = True)\n",
    "        \n",
    "    else:\n",
    "        \n",
    "        break  \n",
    "        \n",
    "\n",
    "print('\\n\\n')    \n",
    "\n",
    "# 文章索引值由 1 開始\n",
    "books.index += 1\n",
    "\n",
    "prices.index += 1\n",
    "\n",
    "print(books, '\\n\\n')\n",
    "\n",
    "print(prices)"
   ]
  },
  {
   "cell_type": "code",
   "execution_count": null,
   "metadata": {},
   "outputs": [],
   "source": [
    "#合併成 DataFrame\n",
    "df = pd.DataFrame({'書名':books, '價格': prices})\n",
    "\n",
    "df     #df[['書名','價格']]"
   ]
  },
  {
   "cell_type": "code",
   "execution_count": null,
   "metadata": {},
   "outputs": [],
   "source": [
    "df.style\\\n",
    "    .set_table_styles([ dict(selector = 'th', \\\n",
    "                             props = [('text-align', 'center'),\\\n",
    "                                      ('color', 'Green'), \\\n",
    "                                      (\"font-size\", \"125%\"),\\\n",
    "                                      ('background-color', '#f7f7f9')])])\\\n",
    "    .set_properties(**{'text-align': 'left', \\\n",
    "                       'background-color': 'black', \\\n",
    "                       'max-width': '650px',\\\n",
    "                       'color': 'lawngreen',\\\n",
    "                       'border-color': 'white'})"
   ]
  },
  {
   "cell_type": "markdown",
   "metadata": {},
   "source": [
    "#### Dataframe Styling using Pandas(all good ones) : [[1]](https://mode.com/example-gallery/python_dataframe_styling/)  [[2]](https://zhuanlan.zhihu.com/p/357732790)  [[3]](https://medium.com/@kristina.reut96/you-think-you-know-stylish-tables-ee59beadb487)  [[官網]](https://pandas.pydata.org/pandas-docs/stable/user_guide/style.html)"
   ]
  }
 ],
 "metadata": {
  "anaconda-cloud": {},
  "kernelspec": {
   "display_name": "Python 3",
   "language": "python",
   "name": "python3"
  },
  "language_info": {
   "codemirror_mode": {
    "name": "ipython",
    "version": 3
   },
   "file_extension": ".py",
   "mimetype": "text/x-python",
   "name": "python",
   "nbconvert_exporter": "python",
   "pygments_lexer": "ipython3",
   "version": "3.8.8"
  }
 },
 "nbformat": 4,
 "nbformat_minor": 1
}
