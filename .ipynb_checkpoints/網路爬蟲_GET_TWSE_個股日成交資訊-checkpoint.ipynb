{
 "cells": [
  {
   "cell_type": "markdown",
   "metadata": {},
   "source": [
    "## **台灣證劵交易所 (個股日成交公開資訊)**"
   ]
  },
  {
   "cell_type": "markdown",
   "metadata": {},
   "source": [
    "[Plotly教學](https://blog.csdn.net/u012897374/article/details/77857980), [在Anaconda中裝Plotly](https://plotly.com/python/getting-started/)"
   ]
  },
  {
   "cell_type": "code",
   "execution_count": null,
   "metadata": {},
   "outputs": [],
   "source": [
    "# %load stockyear_plotly.py\n",
    "\n",
    "# 可以去掉 python 輸出時，因為軟體版本所引起的警告的警告。\n",
    "import warnings\n",
    "warnings.filterwarnings('ignore')\n",
    "\n",
    "import requests\n",
    "import json, csv\n",
    "import pandas as pd\n",
    "import os\n",
    "import time\n",
    "import plotly\n",
    "from plotly.graph_objs import Scatter, Layout\n",
    "\n",
    "def twodigit(n):  #將數值轉為二位數字串\n",
    "    \n",
    "    if(n < 10):\n",
    "        \n",
    "        retstr = '0' + str(n)\n",
    "        \n",
    "    else:\n",
    "        \n",
    "        retstr = str(n)\n",
    "        \n",
    "    return retstr\n",
    "\n",
    "\n",
    "def convertDate(date):  #轉換民國日期為西元:108/03/02->20190302\n",
    "\n",
    "    str1 = str(date)\n",
    "    \n",
    "    yearstr = str1[:3]  #取出民國年\n",
    "    \n",
    "    realyear = str(int(yearstr) + 1911)  #轉為西元年\n",
    "    \n",
    "    realdate = realyear + str1[4:6] + str1[7:9]  #組合日期\n",
    "    \n",
    "    return realdate\n",
    "\n",
    "\n",
    "\n",
    "plotly.offline.init_notebook_mode(connected = True) #當使用 plotly.offline.iplot 在 Jupyter筆記本中離線繪圖時，\n",
    "                                                    #所需處理一個額外的初始化步驟。請參考 https://plot.ly/python/offline/\n",
    "\n",
    "    \n",
    "pd.options.mode.chained_assignment = None  #取消顯示 pandas 資料重設警告，這個設置會關閉掉 copywarning，\n",
    "                                           #也有人提到關閉這個 warning後，速度更快，有待驗證。"
   ]
  },
  {
   "cell_type": "markdown",
   "metadata": {},
   "source": [
    "### 本範例欲爬的目標網站：[台灣證劵交易所>>首頁>>交易資訊>>盤後資訊>>個股日成交資訊](https://www.twse.com.tw/zh/page/trading/exchange/STOCK_DAY.html)"
   ]
  },
  {
   "cell_type": "code",
   "execution_count": null,
   "metadata": {},
   "outputs": [],
   "source": [
    "# 以下區域變數內容可以自行設定\n",
    "\n",
    "year = 2020      # 欲擷取資料的年份\n",
    "\n",
    "stockNo = 2317   # 鴻海精密\n",
    "\n",
    "startMonth = 1   # 欲擷取資料的起始月份\n",
    "\n",
    "endMonth = 12    # 欲擷取資料的結束月份\n",
    "\n",
    "#=====================================\n",
    "\n",
    "#urlbase = 'http://www.tse.com.tw/exchangeReport/STOCK_DAY?response=html&date=' + str(year)  #網址前半\n",
    "urlbase = 'http://www.tse.com.tw/exchangeReport/STOCK_DAY?response=json&date=' + str(year)  #網址前半\n",
    "\n",
    "urltail = '01&stockNo=' + str(stockNo)  #網址後半\n",
    "\n",
    "filename = 'stockyear' + str(year) + '.csv'   # 擷取資料後的存檔檔案名稱 (預設在相同路徑下)\n",
    "\n",
    "\n",
    "#=====================================\n",
    "\n",
    "# 如果之前的資料檔案存在就自動刪除，以方便建立檔案\n",
    "os.remove(filename) if os.path.exists(filename) else None  \n",
    " \n",
    "\n",
    "for i in range(startMonth, endMonth + 1):  # 取 1 到 12 數字\n",
    "            \n",
    "    url_twse = urlbase + twodigit(i) + urltail  # 組合網址\n",
    "        \n",
    "    res = requests.get(url_twse)    # 回傳為 json 資料\n",
    "        \n",
    "    jdata = json.loads(res.text)    # json 解析\n",
    "                       \n",
    "    outputfile = open(filename, 'a', newline = '', encoding = 'utf-8')  # 開啟資料儲存檔案\n",
    "        \n",
    "    outputwriter = csv.writer(outputfile)  # 以 csv 格式寫入檔案\n",
    "        \n",
    "    if i == 1:  # 若是 1 月 就寫入欄位名稱\n",
    "        \n",
    "        outputwriter.writerow(jdata['fields'])\n",
    "        \n",
    "    for dataline in (jdata['data']):  # 逐月寫入資料\n",
    "            \n",
    "        outputwriter.writerow(dataline)\n",
    "        \n",
    "        \n",
    "    time.sleep(1)  # 延遲 0.5 秒以上，否則有時會有錯誤\n",
    "    \n",
    "outputfile.close()  # 關閉檔案"
   ]
  },
  {
   "cell_type": "code",
   "execution_count": null,
   "metadata": {},
   "outputs": [],
   "source": [
    "pdstock = pd.read_csv(filename, encoding = 'utf-8')  # 以 pandas 讀取檔案\n",
    "\n",
    "for i in range(len(pdstock['日期'])):  # 轉換日期式為西元年格式\n",
    "\n",
    "    pdstock['日期'][i] = convertDate(pdstock['日期'][i])\n",
    "\n",
    "\n",
    "pdstock['日期'] = pd.to_datetime(pdstock['日期'])  # 轉換日期欄位為日期格式\n",
    "\n",
    "data = [\n",
    "    Scatter(x = pdstock['日期'], y = pdstock['收盤價'], name = '收盤價'),\n",
    "    Scatter(x = pdstock['日期'], y = pdstock['最低價'], name = '最低價'),\n",
    "    Scatter(x = pdstock['日期'], y = pdstock['最高價'], name = '最高價')\n",
    "]\n",
    "\n",
    "plotly.offline.iplot({  # 以 plotly 繪圖\n",
    "    \"data\": data,\n",
    "    \"layout\": Layout(title = str(year) + '年個股統計圖')\n",
    "}) "
   ]
  },
  {
   "cell_type": "code",
   "execution_count": null,
   "metadata": {},
   "outputs": [],
   "source": []
  }
 ],
 "metadata": {
  "kernelspec": {
   "display_name": "Python 3",
   "language": "python",
   "name": "python3"
  },
  "language_info": {
   "codemirror_mode": {
    "name": "ipython",
    "version": 3
   },
   "file_extension": ".py",
   "mimetype": "text/x-python",
   "name": "python",
   "nbconvert_exporter": "python",
   "pygments_lexer": "ipython3",
   "version": "3.8.8"
  }
 },
 "nbformat": 4,
 "nbformat_minor": 2
}
