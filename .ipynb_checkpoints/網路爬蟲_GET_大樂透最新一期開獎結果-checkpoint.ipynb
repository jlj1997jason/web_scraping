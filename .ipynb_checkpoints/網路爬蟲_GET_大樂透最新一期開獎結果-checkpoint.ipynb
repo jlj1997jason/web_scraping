{
 "cells": [
  {
   "cell_type": "markdown",
   "metadata": {},
   "source": [
    "# 找出台灣彩卷公司大樂透最新一期開獎結果\n",
    "### [大樂透官方網站](http://www.taiwanlottery.com.tw)"
   ]
  },
  {
   "cell_type": "code",
   "execution_count": null,
   "metadata": {},
   "outputs": [],
   "source": [
    "# 可以去掉 python 輸出時，因為軟體版本所引起的警告的警告。\n",
    "import warnings\n",
    "warnings.filterwarnings('ignore')"
   ]
  },
  {
   "cell_type": "code",
   "execution_count": null,
   "metadata": {},
   "outputs": [],
   "source": [
    "import requests    # 連線與抓資料所需要使用的套件\n",
    "\n",
    "import bs4         # 剖析抓下來的網頁資料所需要的套件"
   ]
  },
  {
   "cell_type": "code",
   "execution_count": null,
   "metadata": {},
   "outputs": [],
   "source": [
    "def connect_urls(url):\n",
    "    \n",
    "    try:\n",
    "    \n",
    "        response = requests.get(url, timeout = 3)  # 要求建立各種 HTTP 請求，從網頁伺服器上取得想要的資料，最多嘗試3次\n",
    "        \n",
    "        # Consider any status other than 2xx an error\n",
    "        # 檢查狀態碼是否 OK，如果顯示 200 就代表沒問題\n",
    "        # 0: 是自己設定的要傳回的錯誤代號，表示連線不正確\n",
    "        # 1: 是自己設定的要傳回的正確代號，表示連線成功\n",
    "        if not response.status_code // 100 == 2:\n",
    "            \n",
    "            return \"Error: Unexpected response {}\".format(response), 0\n",
    "\n",
    "        return response, 1\n",
    "    \n",
    "    except requests.exceptions.RequestException as e:\n",
    "        \n",
    "        # A serious problem happened, like an SSLError or InvalidURL\n",
    "        return \"Error: {}\".format(e)"
   ]
  },
  {
   "cell_type": "code",
   "execution_count": null,
   "metadata": {},
   "outputs": [],
   "source": [
    "url1 = 'https://www.taiwanlottery.com.tw/'\n",
    "\n",
    "# 如上面網址不作用請換以下的網址\n",
    "url2 = 'https://www.taiwanlottery.com.tw/index_new.aspx'\n",
    "\n",
    "test_urls = [url1, url2]\n",
    "\n",
    "\n",
    "counter = 0    # 計算已經嘗試連線幾個不同的 URL 位址\n",
    "\n",
    "max_connection_tries = len(test_urls)  # 連線不同 URL 位址的個數上限\n",
    "\n",
    "for url in test_urls:\n",
    "    \n",
    "    print(\"\\n連線網頁位址：'{}'\".format(url))\n",
    "    \n",
    "    print(\"\\n網頁下載中 ...\")\n",
    "    \n",
    "    res = connect_urls(url)\n",
    "    \n",
    "    print(\"\\n連線回應訊息：'{}'\".format(res))\n",
    "\n",
    "    counter += 1\n",
    "    \n",
    "    if (len(res) == 2) and (res[1] == 1):\n",
    "        \n",
    "        html = res[0]\n",
    "        \n",
    "        print(\"\\n網頁下載完成\")\n",
    "        \n",
    "        break\n",
    "    \n",
    "    elif counter == max_connection_tries:\n",
    "                    \n",
    "        print(\"\\n錯誤：網頁下載失敗！ \", res[0])\n",
    "        \n",
    "        raise   # 強制停止程式執行 (manually halt execution)"
   ]
  },
  {
   "cell_type": "markdown",
   "metadata": {},
   "source": [
    "### 大樂透的中獎號碼"
   ]
  },
  {
   "cell_type": "code",
   "execution_count": null,
   "metadata": {},
   "outputs": [],
   "source": [
    "objSoup = bs4.BeautifulSoup( html.text, 'lxml' )    # 建立 BeautifulSoup 物件\n",
    "\n",
    "dataTag = objSoup.select('.contents_box02')         # 尋找 class 是 contents_box02\n",
    "\n",
    "print(\"\\n串列長度\", len(dataTag))\n",
    "\n",
    "print('\\n')"
   ]
  },
  {
   "cell_type": "code",
   "execution_count": null,
   "metadata": {},
   "outputs": [],
   "source": [
    "for i in range(len(dataTag)):                       # 列出含 contents_box02 的串列                 \n",
    "\n",
    "    print(dataTag[i], '\\n')\n",
    "        \n",
    "\n",
    "# 找尋開出順序與大小順序的球\n",
    "latest_lottery_index = len(dataTag) - 2             # 大樂透在 contents_box02 倒數第二個區塊中\n",
    "\n",
    "balls = dataTag[latest_lottery_index].find_all('div', {'class':'ball_tx ball_yellow'})  # 只找出最新一期得獎"
   ]
  },
  {
   "cell_type": "code",
   "execution_count": null,
   "metadata": {},
   "outputs": [],
   "source": [
    "balls"
   ]
  },
  {
   "cell_type": "code",
   "execution_count": null,
   "metadata": {},
   "outputs": [],
   "source": [
    "print(\"\\n開出順序 : \", end = '')\n",
    "\n",
    "for i in range(6):                                  # 前 6 球是開出順序\n",
    "\n",
    "    print(balls[i].text, end = '   ')\n",
    "\n",
    "print(\"\\n大小順序 : \", end = '')\n",
    "\n",
    "for i in range(6,len(balls)):                       # 第 7 球以後是大小順序\n",
    "\n",
    "    print(balls[i].text, end = '   ')"
   ]
  },
  {
   "cell_type": "code",
   "execution_count": null,
   "metadata": {},
   "outputs": [],
   "source": [
    "# 找出第二區的紅球                   \n",
    "redball = dataTag[latest_lottery_index].find_all('div', {'class':'ball_red'})\n",
    "\n",
    "print(\"\\n特別號   :\", redball[0].text)"
   ]
  }
 ],
 "metadata": {
  "kernelspec": {
   "display_name": "Python 3",
   "language": "python",
   "name": "python3"
  },
  "language_info": {
   "codemirror_mode": {
    "name": "ipython",
    "version": 3
   },
   "file_extension": ".py",
   "mimetype": "text/x-python",
   "name": "python",
   "nbconvert_exporter": "python",
   "pygments_lexer": "ipython3",
   "version": "3.8.8"
  }
 },
 "nbformat": 4,
 "nbformat_minor": 2
}
