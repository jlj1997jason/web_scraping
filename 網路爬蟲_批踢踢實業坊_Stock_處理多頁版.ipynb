{
 "cells": [
  {
   "cell_type": "markdown",
   "metadata": {},
   "source": [
    "# 在\"批踢踢實業坊(PTT)\"網站抓股市看板上的新聞(爬連續多個頁面)"
   ]
  },
  {
   "cell_type": "code",
   "execution_count": null,
   "metadata": {},
   "outputs": [],
   "source": [
    "# 可以去掉 python 輸出時，因為軟體版本所引起的警告的警告。\n",
    "import warnings\n",
    "warnings.filterwarnings('ignore')"
   ]
  },
  {
   "cell_type": "markdown",
   "metadata": {
    "colab_type": "text",
    "id": "qAmGJ8-SE5Uj"
   },
   "source": [
    "**事前準備 : pip install pyquery**"
   ]
  },
  {
   "cell_type": "code",
   "execution_count": null,
   "metadata": {
    "colab": {
     "base_uri": "https://localhost:8080/",
     "height": 136
    },
    "colab_type": "code",
    "executionInfo": {
     "elapsed": 7236,
     "status": "ok",
     "timestamp": 1556843099051,
     "user": {
      "displayName": "HsiangYun Tsao",
      "photoUrl": "https://lh6.googleusercontent.com/-3_qUAFHkQn8/AAAAAAAAAAI/AAAAAAAAAFQ/GhrzQZ0w1oo/s64/photo.jpg",
      "userId": "16007438803119037325"
     },
     "user_tz": -480
    },
    "id": "66-mkvD5E-ns",
    "outputId": "925043c4-f34a-4447-bdb7-accc016376b7"
   },
   "outputs": [],
   "source": [
    "!pip install pyquery"
   ]
  },
  {
   "cell_type": "code",
   "execution_count": null,
   "metadata": {
    "colab": {},
    "colab_type": "code",
    "id": "MildY6vAE5Ul"
   },
   "outputs": [],
   "source": [
    "from pyquery import PyQuery as pq\n",
    "from collections import OrderedDict\n",
    "import pandas as pd"
   ]
  },
  {
   "cell_type": "code",
   "execution_count": null,
   "metadata": {
    "colab": {},
    "colab_type": "code",
    "id": "K_VPAwukE5Ut"
   },
   "outputs": [],
   "source": [
    "# 開使爬蟲動作\n",
    "url = 'https://www.ptt.cc/bbs/Stock/index.html'   # 到最新的頁面(此為預設)\n",
    "#url = 'https://www.ptt.cc/bbs/Stock/index5019.html' # 到特定頁面\n",
    "\n",
    "q = pq(url)"
   ]
  },
  {
   "cell_type": "code",
   "execution_count": null,
   "metadata": {
    "colab": {
     "base_uri": "https://localhost:8080/",
     "height": 11325
    },
    "colab_type": "code",
    "executionInfo": {
     "elapsed": 7795,
     "status": "ok",
     "timestamp": 1556843099641,
     "user": {
      "displayName": "HsiangYun Tsao",
      "photoUrl": "https://lh6.googleusercontent.com/-3_qUAFHkQn8/AAAAAAAAAAI/AAAAAAAAAFQ/GhrzQZ0w1oo/s64/photo.jpg",
      "userId": "16007438803119037325"
     },
     "user_tz": -480
    },
    "id": "HcjEt7s9E5Ux",
    "outputId": "64c3ffdf-402a-4453-9028-d2b581d7148b"
   },
   "outputs": [],
   "source": [
    "# 經過解析後的 q 就是網站的 html DOM Tree\n",
    "#print(q)"
   ]
  },
  {
   "cell_type": "code",
   "execution_count": null,
   "metadata": {},
   "outputs": [],
   "source": [
    "# 獲取本頁頁碼,在這裡使用正規表達式\n",
    "import re\n",
    "\n",
    "#page_no = q('.wide:nth-child(2)')\n",
    "page_no = q('.btn-group-paging a')\n",
    "\n",
    "rule = r'href=\"\\/bbs\\/Stock\\/index([0-9]+).html\".+(.)頁'\n",
    "\n",
    "results = re.findall(rule, str(page_no))\n",
    "\n",
    "print(results)"
   ]
  },
  {
   "cell_type": "code",
   "execution_count": null,
   "metadata": {},
   "outputs": [],
   "source": [
    "if len(results) == 2:\n",
    "    \n",
    "    current_page_no = int(results[0][0]) + 1\n",
    "\n",
    "elif len(results) == 1 and results[0][1] == '下':\n",
    "    \n",
    "    current_page_no = int(results[0][0]) - 1\n",
    "\n",
    "elif len(results) == 1 and results[0][1] == '上':\n",
    "    \n",
    "    current_page_no = int(results[0][0]) + 1\n",
    "    \n",
    "print('現在頁面：%d' % current_page_no)"
   ]
  },
  {
   "cell_type": "code",
   "execution_count": null,
   "metadata": {},
   "outputs": [],
   "source": [
    "i = current_page_no\n",
    "\n",
    "q_list = []\n",
    "\n",
    "# 從最新的頁面往前(舊的頁面)抓 10 頁\n",
    "for i in range(0, 10):\n",
    "    \n",
    "    url = 'https://www.ptt.cc/bbs/Stock/index' + str(current_page_no - i) + '.html'\n",
    "    \n",
    "    print(url)\n",
    "         \n",
    "    q_list.append(pq(url))"
   ]
  },
  {
   "cell_type": "code",
   "execution_count": null,
   "metadata": {},
   "outputs": [],
   "source": [
    "for q in q_list:\n",
    "    \n",
    "    print(q)"
   ]
  },
  {
   "cell_type": "markdown",
   "metadata": {},
   "source": [
    "###  未完，接下來處理每頁後續動作"
   ]
  }
 ],
 "metadata": {
  "colab": {
   "collapsed_sections": [],
   "name": "ptt_parser.ipynb",
   "provenance": [],
   "version": "0.3.2"
  },
  "kernelspec": {
   "display_name": "Python 3",
   "language": "python",
   "name": "python3"
  },
  "language_info": {
   "codemirror_mode": {
    "name": "ipython",
    "version": 3
   },
   "file_extension": ".py",
   "mimetype": "text/x-python",
   "name": "python",
   "nbconvert_exporter": "python",
   "pygments_lexer": "ipython3",
   "version": "3.8.5"
  }
 },
 "nbformat": 4,
 "nbformat_minor": 1
}
