{
 "cells": [
  {
   "cell_type": "markdown",
   "metadata": {},
   "source": [
    "## 爬取單日大盤統計資訊\n",
    "### [收盤指數資訊 - 價格指數(臺灣證券交易所)](https://www.twse.com.tw/zh/page/trading/exchange/MI_INDEX.html)"
   ]
  },
  {
   "cell_type": "code",
   "execution_count": null,
   "metadata": {},
   "outputs": [],
   "source": [
    "# 可以去掉 python 輸出時，因為軟體版本所引起的警告的警告。\n",
    "import warnings\n",
    "warnings.filterwarnings('ignore')"
   ]
  },
  {
   "cell_type": "code",
   "execution_count": null,
   "metadata": {},
   "outputs": [],
   "source": [
    "import requests\n",
    "import json\n",
    "import pandas as pd\n",
    "import numpy as np"
   ]
  },
  {
   "cell_type": "code",
   "execution_count": null,
   "metadata": {},
   "outputs": [],
   "source": [
    "data = {\n",
    "    'response': 'json',\n",
    "    'date': '20210607',\n",
    "    'type': 'IND',\n",
    "    #'_': '1623107531853'\n",
    "}\n",
    "\n",
    "res = requests.get('http://www.tse.com.tw/exchangeReport/MI_INDEX', data)\n",
    "\n",
    "print(res.text)"
   ]
  },
  {
   "cell_type": "code",
   "execution_count": null,
   "metadata": {},
   "outputs": [],
   "source": [
    "jres = json.loads(res.text)\n",
    "\n",
    "jres"
   ]
  },
  {
   "cell_type": "code",
   "execution_count": null,
   "metadata": {},
   "outputs": [],
   "source": [
    "jres['stat']    # 回應 'OK' 代表當日有開盤"
   ]
  },
  {
   "cell_type": "code",
   "execution_count": null,
   "metadata": {},
   "outputs": [],
   "source": [
    "jres['data1']"
   ]
  },
  {
   "cell_type": "code",
   "execution_count": null,
   "metadata": {},
   "outputs": [],
   "source": [
    "df_temp = pd.DataFrame(jres['data1'], columns = jres['fields1'])\n",
    "\n",
    "df_temp"
   ]
  },
  {
   "cell_type": "markdown",
   "metadata": {},
   "source": [
    "## 時間序列處理\n",
    "### 注意：星期一是 0 到 星期日是 6"
   ]
  },
  {
   "cell_type": "code",
   "execution_count": null,
   "metadata": {},
   "outputs": [],
   "source": [
    "from datetime import datetime\n",
    "\n",
    "datetime(2021, 6, 7).weekday() #  Notice: Monday is 0, Sunday is 6"
   ]
  },
  {
   "cell_type": "markdown",
   "metadata": {},
   "source": [
    "### timedelta\n",
    "#### 參數可放：months, weeks, days(default)"
   ]
  },
  {
   "cell_type": "code",
   "execution_count": null,
   "metadata": {},
   "outputs": [],
   "source": [
    "from datetime import timedelta\n",
    "\n",
    "timedelta(days = 1)"
   ]
  },
  {
   "cell_type": "code",
   "execution_count": null,
   "metadata": {},
   "outputs": [],
   "source": [
    "datetime(2021, 6, 7) - timedelta(1)"
   ]
  },
  {
   "cell_type": "markdown",
   "metadata": {},
   "source": [
    "### datetime轉string: strftime(datetime, format)"
   ]
  },
  {
   "cell_type": "code",
   "execution_count": null,
   "metadata": {},
   "outputs": [],
   "source": [
    "datetime.strftime(datetime(2021, 6, 7), '%Y%m%d')"
   ]
  },
  {
   "cell_type": "markdown",
   "metadata": {},
   "source": [
    "## 創建儲存爬取多日大盤指數的DataFrame"
   ]
  },
  {
   "cell_type": "code",
   "execution_count": null,
   "metadata": {},
   "outputs": [],
   "source": [
    "column_list = list(df_temp['指數'])\n",
    "\n",
    "column_list.append('date')\n",
    "\n",
    "df = pd.DataFrame(columns = column_list)\n",
    "\n",
    "df"
   ]
  },
  {
   "cell_type": "markdown",
   "metadata": {},
   "source": [
    "## 爬取多日證交所大盤指數\n",
    "### 注意：使用 time.sleep() 避免頻繁爬取被拒絕存取"
   ]
  },
  {
   "cell_type": "code",
   "execution_count": null,
   "metadata": {},
   "outputs": [],
   "source": [
    "import time\n",
    "import random\n",
    "\n",
    "crawl_date = datetime(2021, 6, 7) # start_date\n",
    "\n",
    "crawl_date"
   ]
  },
  {
   "cell_type": "code",
   "execution_count": null,
   "metadata": {},
   "outputs": [],
   "source": [
    "headers = {'user-agent': 'Mozilla/5.0 (Windows NT 6.1) AppleWebKit/537.36 (KHTML, like Gecko) Chrome/52.0.2743.116 Safari/537.36'}\n",
    "\n",
    "for i in range(30):\n",
    "\n",
    "    crawl_date -= timedelta(1)\n",
    "    \n",
    "    crawl_date_str = datetime.strftime(crawl_date, '%Y%m%d')\n",
    "    \n",
    "    res = requests.get('http://www.tse.com.tw/exchangeReport/MI_INDEX?response=json&date=' + crawl_date_str + '&type=IND', headers = headers)\n",
    "    \n",
    "    jres = json.loads(res.text)\n",
    "    \n",
    "    \n",
    "    # 證交所回覆有資料\n",
    "    if (jres['stat'] == 'OK'):\n",
    "        \n",
    "        print(crawl_date_str, ': crawling data...')\n",
    "        \n",
    "        # 將讀取回的json轉成的DataFrame(df_temp)\n",
    "        df_temp = pd.DataFrame(jres['data1'], columns = jres['fields1'])\n",
    "        \n",
    "        # 將單列的 DataFrame(df_temp) 中的欄位 '漲跌百分比(%)' 存入統整的 DataFrame\n",
    "        row_data = list(df_temp['漲跌百分比(%)'])\n",
    "        \n",
    "        row_data.append(crawl_date_str)\n",
    "        \n",
    "        df.loc[len(df)] = row_data\n",
    "    \n",
    "    else:\n",
    "    \n",
    "        print(crawl_date_str, ': no data')\n",
    "     \n",
    "    \n",
    "    # 讓程式睡個幾秒(建議 5~10 秒或更久)再繼續爬取下一天資料，避免頻繁抓取被台灣證券交易所封鎖 IP 拒絕存取\n",
    "    time.sleep((random.uniform(5, 10))) "
   ]
  },
  {
   "cell_type": "markdown",
   "metadata": {},
   "source": [
    "### 修改pandas顯示設定"
   ]
  },
  {
   "cell_type": "code",
   "execution_count": null,
   "metadata": {},
   "outputs": [],
   "source": [
    "pd.set_option('display.max.columns', 80)\n",
    "\n",
    "pd.set_option('display.max.rows', 80)"
   ]
  },
  {
   "cell_type": "code",
   "execution_count": null,
   "metadata": {},
   "outputs": [],
   "source": [
    "df"
   ]
  },
  {
   "cell_type": "markdown",
   "metadata": {},
   "source": [
    "## 資料預處理\n",
    "### 取代"
   ]
  },
  {
   "cell_type": "code",
   "execution_count": null,
   "metadata": {},
   "outputs": [],
   "source": [
    "df.dtypes"
   ]
  },
  {
   "cell_type": "code",
   "execution_count": null,
   "metadata": {},
   "outputs": [],
   "source": [
    "df = df.replace('--', 0)"
   ]
  },
  {
   "cell_type": "code",
   "execution_count": null,
   "metadata": {},
   "outputs": [],
   "source": [
    "df"
   ]
  },
  {
   "cell_type": "markdown",
   "metadata": {},
   "source": [
    "### 時間序列處理：datetime_index"
   ]
  },
  {
   "cell_type": "code",
   "execution_count": null,
   "metadata": {},
   "outputs": [],
   "source": [
    "df = df.set_index(df['date'], drop = True)\n",
    "\n",
    "df.head()"
   ]
  },
  {
   "cell_type": "code",
   "execution_count": null,
   "metadata": {},
   "outputs": [],
   "source": [
    "type(df.index)"
   ]
  },
  {
   "cell_type": "code",
   "execution_count": null,
   "metadata": {},
   "outputs": [],
   "source": [
    "df.index = pd.to_datetime(df.index, format = '%Y%m%d')\n",
    "\n",
    "type(df.index)"
   ]
  },
  {
   "cell_type": "code",
   "execution_count": null,
   "metadata": {},
   "outputs": [],
   "source": [
    "del df['date']"
   ]
  },
  {
   "cell_type": "code",
   "execution_count": null,
   "metadata": {},
   "outputs": [],
   "source": [
    "df"
   ]
  },
  {
   "cell_type": "markdown",
   "metadata": {},
   "source": [
    "### 資料型態轉換"
   ]
  },
  {
   "cell_type": "code",
   "execution_count": null,
   "metadata": {},
   "outputs": [],
   "source": [
    "df.dtypes"
   ]
  },
  {
   "cell_type": "code",
   "execution_count": null,
   "metadata": {},
   "outputs": [],
   "source": [
    "df = df.astype(float)\n",
    "\n",
    "df.dtypes"
   ]
  },
  {
   "cell_type": "markdown",
   "metadata": {},
   "source": [
    "## 視覺化"
   ]
  },
  {
   "cell_type": "code",
   "execution_count": null,
   "metadata": {},
   "outputs": [],
   "source": [
    "import matplotlib.pyplot as plt\n",
    "import matplotlib.gridspec as gs\n",
    "from matplotlib.font_manager import FontProperties # 處理中文\n",
    "\n",
    "#plt.rcParams['font.family'] = 'SimHei' #顯示中文('SimHei' for MacOS)\n",
    "#plt.rcParams['font.family'] = 'DFKai-SB' #顯示中文 (for Win10)\n",
    "plt.rcParams['axes.unicode_minus'] = False #正常顯示負號\n",
    "\n",
    "plt.rcParams['font.sans-serif'] = ['Microsoft JhengHei']  # 步驟一（替換sans-serif字型）\n",
    "\n",
    "#圖片顯示於Jupyter Notebook上\n",
    "%matplotlib inline"
   ]
  },
  {
   "cell_type": "code",
   "execution_count": null,
   "metadata": {},
   "outputs": [],
   "source": [
    "df['寶島股價指數'].plot(figsize = (10, 8))"
   ]
  },
  {
   "cell_type": "code",
   "execution_count": null,
   "metadata": {},
   "outputs": [],
   "source": [
    "df.loc[:, '水泥窯製類指數':'油電燃氣類指數'].plot(figsize = (20, 16))"
   ]
  },
  {
   "cell_type": "code",
   "execution_count": null,
   "metadata": {},
   "outputs": [],
   "source": [
    "df.index"
   ]
  },
  {
   "cell_type": "code",
   "execution_count": null,
   "metadata": {},
   "outputs": [],
   "source": [
    "df.iloc[:7, :5].plot(kind = 'bar', figsize = (20, 16))"
   ]
  },
  {
   "cell_type": "code",
   "execution_count": null,
   "metadata": {},
   "outputs": [],
   "source": [
    "df.plot(kind = 'scatter', x = '半導體類指數', y = '光電類指數', figsize = (10, 8))"
   ]
  },
  {
   "cell_type": "markdown",
   "metadata": {},
   "source": [
    "## 相關性分析"
   ]
  },
  {
   "cell_type": "code",
   "execution_count": null,
   "metadata": {
    "scrolled": true
   },
   "outputs": [],
   "source": [
    "df.corr()"
   ]
  },
  {
   "cell_type": "code",
   "execution_count": null,
   "metadata": {},
   "outputs": [],
   "source": [
    "df.loc[:, '水泥窯製類指數':'油電燃氣類指數']"
   ]
  },
  {
   "cell_type": "code",
   "execution_count": null,
   "metadata": {},
   "outputs": [],
   "source": [
    "df.loc[:, '水泥窯製類指數':'油電燃氣類指數'].corr()"
   ]
  },
  {
   "cell_type": "code",
   "execution_count": null,
   "metadata": {},
   "outputs": [],
   "source": [
    "corr = df.loc[:, '水泥窯製類指數':'油電燃氣類指數'].corr()"
   ]
  },
  {
   "cell_type": "markdown",
   "metadata": {},
   "source": [
    "### Seaborn: https://seaborn.pydata.org/"
   ]
  },
  {
   "cell_type": "code",
   "execution_count": null,
   "metadata": {},
   "outputs": [],
   "source": [
    "import seaborn as sns\n",
    "\n",
    "plt.figure(figsize = (20, 20))\n",
    "\n",
    "sns.heatmap(corr, square = True, annot = True)\n",
    "\n",
    "plt.show()"
   ]
  },
  {
   "cell_type": "markdown",
   "metadata": {},
   "source": [
    "## 異常值偵測\n",
    "### [數據可視化圖表——箱形圖](https://kknews.cc/tech/9n58a58.html)"
   ]
  },
  {
   "cell_type": "code",
   "execution_count": null,
   "metadata": {},
   "outputs": [],
   "source": [
    "df.loc[:,'水泥窯製類指數':'油電燃氣類指數'].boxplot(figsize = (20, 10), rot = 90, fontsize = 16) # rot:x-axis label旋轉角度"
   ]
  },
  {
   "cell_type": "code",
   "execution_count": null,
   "metadata": {},
   "outputs": [],
   "source": [
    "df[df['汽車類指數'] < -2]"
   ]
  },
  {
   "cell_type": "markdown",
   "metadata": {},
   "source": [
    "## 統計分析"
   ]
  },
  {
   "cell_type": "code",
   "execution_count": null,
   "metadata": {},
   "outputs": [],
   "source": [
    "df_stock_index = df.loc[:, '水泥窯製類指數':'油電燃氣類指數']\n",
    "\n",
    "df_stock_index.describe()"
   ]
  },
  {
   "cell_type": "code",
   "execution_count": null,
   "metadata": {},
   "outputs": [],
   "source": [
    "df_stock_index.mean()"
   ]
  },
  {
   "cell_type": "code",
   "execution_count": null,
   "metadata": {},
   "outputs": [],
   "source": [
    "df_stock_index.mean().plot(kind = 'bar', figsize = (15, 8), fontsize = 16)"
   ]
  }
 ],
 "metadata": {
  "kernelspec": {
   "display_name": "Python 3",
   "language": "python",
   "name": "python3"
  },
  "language_info": {
   "codemirror_mode": {
    "name": "ipython",
    "version": 3
   },
   "file_extension": ".py",
   "mimetype": "text/x-python",
   "name": "python",
   "nbconvert_exporter": "python",
   "pygments_lexer": "ipython3",
   "version": "3.8.8"
  }
 },
 "nbformat": 4,
 "nbformat_minor": 2
}
