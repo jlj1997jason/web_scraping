{
 "cells": [
  {
   "cell_type": "markdown",
   "metadata": {},
   "source": [
    "# 在\"批踢踢實業坊(PTT)\"網站抓股市看板上的新聞[[網站]](https://www.ptt.cc/bbs/Stock/index.html)"
   ]
  },
  {
   "cell_type": "code",
   "execution_count": null,
   "metadata": {},
   "outputs": [],
   "source": [
    "# 可以去掉 python 輸出時，因為軟體版本所引起的警告的警告。\n",
    "import warnings\n",
    "warnings.filterwarnings('ignore')"
   ]
  },
  {
   "cell_type": "markdown",
   "metadata": {
    "colab_type": "text",
    "id": "qAmGJ8-SE5Uj"
   },
   "source": [
    "**事前準備 : pip install pyquery**"
   ]
  },
  {
   "cell_type": "code",
   "execution_count": null,
   "metadata": {
    "colab": {
     "base_uri": "https://localhost:8080/",
     "height": 136
    },
    "colab_type": "code",
    "executionInfo": {
     "elapsed": 7236,
     "status": "ok",
     "timestamp": 1556843099051,
     "user": {
      "displayName": "HsiangYun Tsao",
      "photoUrl": "https://lh6.googleusercontent.com/-3_qUAFHkQn8/AAAAAAAAAAI/AAAAAAAAAFQ/GhrzQZ0w1oo/s64/photo.jpg",
      "userId": "16007438803119037325"
     },
     "user_tz": -480
    },
    "id": "66-mkvD5E-ns",
    "outputId": "925043c4-f34a-4447-bdb7-accc016376b7"
   },
   "outputs": [],
   "source": [
    "!pip install pyquery"
   ]
  },
  {
   "cell_type": "markdown",
   "metadata": {},
   "source": [
    "#### PyQuery是一個類似於jQuery的解析網頁工具，使用lxml操作xml和html文檔，它的語法和jQuery很像。和XPATH，Beautiful Soup比起來，PyQuery更加靈活，提供增加節點的class信息，移除某個節點，提取文本信息等功能。\n",
    "#### [PyQuery的用法](https://hiskio.com/courses/76/lectures/1885)"
   ]
  },
  {
   "cell_type": "code",
   "execution_count": null,
   "metadata": {
    "colab": {},
    "colab_type": "code",
    "id": "MildY6vAE5Ul"
   },
   "outputs": [],
   "source": [
    "from pyquery import PyQuery as pq\n",
    "from collections import OrderedDict\n",
    "\n",
    "import pandas as pd   # 當成 Python DataScience 的 Excel"
   ]
  },
  {
   "cell_type": "code",
   "execution_count": null,
   "metadata": {
    "colab": {},
    "colab_type": "code",
    "id": "K_VPAwukE5Ut"
   },
   "outputs": [],
   "source": [
    "# 開使爬蟲動作\n",
    "url = 'https://www.ptt.cc/bbs/Stock/index5003.html'  # index後的數字在PPT網站上隨時會更改，請找最新看板的前一頁(標示\"上頁\")的數字\n",
    "\n",
    "q = pq(url)   # 直接對網站內容進行解析，並將結果傳回來"
   ]
  },
  {
   "cell_type": "code",
   "execution_count": null,
   "metadata": {
    "colab": {
     "base_uri": "https://localhost:8080/",
     "height": 11325
    },
    "colab_type": "code",
    "executionInfo": {
     "elapsed": 7795,
     "status": "ok",
     "timestamp": 1556843099641,
     "user": {
      "displayName": "HsiangYun Tsao",
      "photoUrl": "https://lh6.googleusercontent.com/-3_qUAFHkQn8/AAAAAAAAAAI/AAAAAAAAAFQ/GhrzQZ0w1oo/s64/photo.jpg",
      "userId": "16007438803119037325"
     },
     "user_tz": -480
    },
    "id": "HcjEt7s9E5Ux",
    "outputId": "64c3ffdf-402a-4453-9028-d2b581d7148b"
   },
   "outputs": [],
   "source": [
    "# 經過解析後的 q 就是網站的 html DOM Tree\n",
    "print(q)"
   ]
  },
  {
   "cell_type": "code",
   "execution_count": null,
   "metadata": {
    "colab": {},
    "colab_type": "code",
    "id": "_urs0FZ-E5U7"
   },
   "outputs": [],
   "source": [
    "# 獲取本頁所有標題 作者 推文數資訊\n",
    "title = q('.title a').text()\n",
    "\n",
    "author = q('.author').text()\n",
    "\n",
    "push = q('.hl').text()"
   ]
  },
  {
   "cell_type": "code",
   "execution_count": null,
   "metadata": {
    "colab": {
     "base_uri": "https://localhost:8080/",
     "height": 54
    },
    "colab_type": "code",
    "executionInfo": {
     "elapsed": 7774,
     "status": "ok",
     "timestamp": 1556843099644,
     "user": {
      "displayName": "HsiangYun Tsao",
      "photoUrl": "https://lh6.googleusercontent.com/-3_qUAFHkQn8/AAAAAAAAAAI/AAAAAAAAAFQ/GhrzQZ0w1oo/s64/photo.jpg",
      "userId": "16007438803119037325"
     },
     "user_tz": -480
    },
    "id": "LNt-U3JmE5U_",
    "outputId": "92afdbe9-5907-4594-b86f-7f5c90b9c4c8"
   },
   "outputs": [],
   "source": [
    "print(title)"
   ]
  },
  {
   "cell_type": "code",
   "execution_count": null,
   "metadata": {},
   "outputs": [],
   "source": [
    "print(author)"
   ]
  },
  {
   "cell_type": "code",
   "execution_count": null,
   "metadata": {},
   "outputs": [],
   "source": [
    "print(push)"
   ]
  },
  {
   "cell_type": "markdown",
   "metadata": {
    "colab_type": "text",
    "id": "ScWm0e74E5VE"
   },
   "source": [
    "**很明顯這樣的資訊並不是我們要的，因為所有文章的訊息都擠在一起了，所以接下來我們要針對每一篇文章分別爬資訊**"
   ]
  },
  {
   "cell_type": "code",
   "execution_count": null,
   "metadata": {
    "colab": {
     "base_uri": "https://localhost:8080/",
     "height": 530
    },
    "colab_type": "code",
    "executionInfo": {
     "elapsed": 7762,
     "status": "ok",
     "timestamp": 1556843099645,
     "user": {
      "displayName": "HsiangYun Tsao",
      "photoUrl": "https://lh6.googleusercontent.com/-3_qUAFHkQn8/AAAAAAAAAAI/AAAAAAAAAFQ/GhrzQZ0w1oo/s64/photo.jpg",
      "userId": "16007438803119037325"
     },
     "user_tz": -480
    },
    "id": "Ka9TCYOJE5VG",
    "outputId": "347e1688-7750-4aad-f31c-97a407682605"
   },
   "outputs": [],
   "source": [
    "info = []\n",
    "\n",
    "for article in q('.r-ent'):\n",
    "    pass     # pass 在 python 迴圈中表示什麼都不做\n",
    "\n",
    "print('如果沒有重新解析:', article)\n",
    "\n",
    "print()\n",
    "\n",
    "print('重新解析後:', pq(article))"
   ]
  },
  {
   "cell_type": "code",
   "execution_count": null,
   "metadata": {
    "colab": {},
    "colab_type": "code",
    "id": "4kLsJ2M6E5VM"
   },
   "outputs": [],
   "source": [
    "# 獲取每篇文章分別的標題 作者 推文數資訊\n",
    "info = []\n",
    "\n",
    "for article in q('.r-ent'):\n",
    "\n",
    "    info_dict = OrderedDict()\n",
    "\n",
    "    # 每一篇文章的資訊分別塞到字典裡頭\n",
    "    article_q = pq(article) # 記得要重新用 pq再解析一次\n",
    "    \n",
    "    info_dict['title'] = article_q('.title a').text()\n",
    "    \n",
    "    info_dict['author'] = article_q('.author').text()\n",
    "    \n",
    "    info_dict['push'] = article_q('.hl').text()\n",
    "\n",
    "    # 將字典存入list\n",
    "    info.append(info_dict)"
   ]
  },
  {
   "cell_type": "code",
   "execution_count": null,
   "metadata": {
    "colab": {},
    "colab_type": "code",
    "id": "DJPMRFyGE5VQ"
   },
   "outputs": [],
   "source": [
    "# 將list轉成pandas dataframe\n",
    "data = pd.DataFrame(info)\n",
    "\n",
    "# 文章索引值由 1 開始\n",
    "data.index += 1\n",
    "\n",
    "# 存檔\n",
    "data.to_csv('ptt_stock_info.csv', encoding = 'utf-8', index = None)"
   ]
  },
  {
   "cell_type": "code",
   "execution_count": null,
   "metadata": {
    "colab": {
     "base_uri": "https://localhost:8080/",
     "height": 204
    },
    "colab_type": "code",
    "executionInfo": {
     "elapsed": 8009,
     "status": "ok",
     "timestamp": 1556843099904,
     "user": {
      "displayName": "HsiangYun Tsao",
      "photoUrl": "https://lh6.googleusercontent.com/-3_qUAFHkQn8/AAAAAAAAAAI/AAAAAAAAAFQ/GhrzQZ0w1oo/s64/photo.jpg",
      "userId": "16007438803119037325"
     },
     "user_tz": -480
    },
    "id": "Dl0qLVnoE5VV",
    "outputId": "cde6d2f1-144a-46b5-9030-251482adfc41"
   },
   "outputs": [],
   "source": [
    "data.head()"
   ]
  },
  {
   "cell_type": "markdown",
   "metadata": {
    "colab_type": "text",
    "id": "Ib1HQ0OXE5Vb"
   },
   "source": [
    "**現在已經有了每篇文章個別的標題 作者 推文數資訊，那如果想知道每篇文章的推文該怎麼做呢?**"
   ]
  },
  {
   "cell_type": "code",
   "execution_count": null,
   "metadata": {
    "colab": {},
    "colab_type": "code",
    "id": "4blwnLWOE5Vc"
   },
   "outputs": [],
   "source": [
    "# 獲取每篇文章的url\n",
    "url_list = []\n",
    "\n",
    "for node in q('.title a'):\n",
    "\n",
    "    url = 'https://www.ptt.cc' + str(pq(node).attr('href')) # 記得要重新用 pq再解析一次\n",
    "    \n",
    "    url_list.append(url)"
   ]
  },
  {
   "cell_type": "code",
   "execution_count": null,
   "metadata": {
    "colab": {},
    "colab_type": "code",
    "id": "8dHhgIJ3E5Vh"
   },
   "outputs": [],
   "source": [
    "# 進入每篇文章的 url 獲得詳細資訊\n",
    "page_list = []\n",
    "\n",
    "for page in url_list:\n",
    "\n",
    "    page_dict = OrderedDict()\n",
    "\n",
    "    page_q = pq(page)\n",
    "    \n",
    "    page_dict['author'] = page_q('.article-metaline:nth-child(1) .article-meta-value').text()\n",
    "    \n",
    "    page_dict['push_content'] = page_q('.push-content').text()\n",
    "\n",
    "    page_list.append(page_dict)"
   ]
  },
  {
   "cell_type": "code",
   "execution_count": null,
   "metadata": {
    "colab": {},
    "colab_type": "code",
    "id": "Qtye8g9QE5Vk"
   },
   "outputs": [],
   "source": [
    "page_data = pd.DataFrame(page_list)\n",
    "\n",
    "# 文章索引值由 1 開始\n",
    "page_data.index += 1\n",
    "\n",
    "page_data.to_csv('ptt_stock_pageinfo.csv', encoding = 'utf-8', index = None)"
   ]
  },
  {
   "cell_type": "code",
   "execution_count": null,
   "metadata": {
    "colab": {
     "base_uri": "https://localhost:8080/",
     "height": 204
    },
    "colab_type": "code",
    "executionInfo": {
     "elapsed": 15401,
     "status": "ok",
     "timestamp": 1556843107317,
     "user": {
      "displayName": "HsiangYun Tsao",
      "photoUrl": "https://lh6.googleusercontent.com/-3_qUAFHkQn8/AAAAAAAAAAI/AAAAAAAAAFQ/GhrzQZ0w1oo/s64/photo.jpg",
      "userId": "16007438803119037325"
     },
     "user_tz": -480
    },
    "id": "dFgWrKjZE5Vo",
    "outputId": "0671ad65-4a39-4e50-ea15-99c1cd71e607"
   },
   "outputs": [],
   "source": [
    "page_data.head()"
   ]
  },
  {
   "cell_type": "code",
   "execution_count": null,
   "metadata": {},
   "outputs": [],
   "source": []
  }
 ],
 "metadata": {
  "colab": {
   "collapsed_sections": [],
   "name": "ptt_parser.ipynb",
   "provenance": [],
   "version": "0.3.2"
  },
  "kernelspec": {
   "display_name": "Python 3",
   "language": "python",
   "name": "python3"
  },
  "language_info": {
   "codemirror_mode": {
    "name": "ipython",
    "version": 3
   },
   "file_extension": ".py",
   "mimetype": "text/x-python",
   "name": "python",
   "nbconvert_exporter": "python",
   "pygments_lexer": "ipython3",
   "version": "3.8.5"
  }
 },
 "nbformat": 4,
 "nbformat_minor": 1
}
